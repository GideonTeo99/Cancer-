{
 "cells": [
  {
   "cell_type": "code",
   "execution_count": 1,
   "id": "235aecfd",
   "metadata": {},
   "outputs": [],
   "source": [
    "import torch\n",
    "import torch.nn as nn\n",
    "import torch.optim as optim\n",
    "import os\n",
    "import wandb\n",
    "import numpy as np\n",
    "import matplotlib.pyplot as plt\n",
    "from torchvision import datasets, transforms\n",
    "from torch.utils.data.sampler import SubsetRandomSampler\n",
    "from CNN_v1 import CNN\n",
    "from scripts import load_split_train_valid_test\n",
    "from torchsummary import summary"
   ]
  },
  {
   "cell_type": "code",
   "execution_count": 2,
   "id": "3d5c275a",
   "metadata": {},
   "outputs": [],
   "source": [
    "# Data path\n",
    "path = os.path.join(os.path.dirname(os.getcwd()), 'data/')\n",
    "if torch.cuda.is_available:\n",
    "    device = torch.device(\"cuda:0\")\n",
    "else:\n",
    "    device = torch.device(\"cpu\")"
   ]
  },
  {
   "cell_type": "code",
   "execution_count": 3,
   "id": "5fba9710",
   "metadata": {
    "scrolled": false
   },
   "outputs": [
    {
     "name": "stderr",
     "output_type": "stream",
     "text": [
      "/usr/local/dev/anaconda3/envs/cancer/lib/python3.9/site-packages/torch/nn/functional.py:718: UserWarning: Named tensors and all their associated APIs are an experimental feature and subject to change. Please do not use them for anything important until they are released as stable. (Triggered internally at  /opt/conda/conda-bld/pytorch_1623448238472/work/c10/core/TensorImpl.h:1156.)\n",
      "  return torch.max_pool2d(input, kernel_size, stride, padding, dilation, ceil_mode)\n"
     ]
    },
    {
     "name": "stdout",
     "output_type": "stream",
     "text": [
      "----------------------------------------------------------------\n",
      "        Layer (type)               Output Shape         Param #\n",
      "================================================================\n",
      "            Conv2d-1         [-1, 16, 224, 224]             448\n",
      "       BatchNorm2d-2         [-1, 16, 224, 224]              32\n",
      "         LeakyReLU-3         [-1, 16, 224, 224]               0\n",
      "            Conv2d-4         [-1, 16, 224, 224]           2,320\n",
      "       BatchNorm2d-5         [-1, 16, 224, 224]              32\n",
      "         LeakyReLU-6         [-1, 16, 224, 224]               0\n",
      "         MaxPool2d-7         [-1, 16, 112, 112]               0\n",
      "           Dropout-8         [-1, 16, 112, 112]               0\n",
      "             Block-9         [-1, 16, 112, 112]               0\n",
      "           Conv2d-10         [-1, 32, 112, 112]           4,640\n",
      "      BatchNorm2d-11         [-1, 32, 112, 112]              64\n",
      "        LeakyReLU-12         [-1, 32, 112, 112]               0\n",
      "           Conv2d-13         [-1, 32, 112, 112]           9,248\n",
      "      BatchNorm2d-14         [-1, 32, 112, 112]              64\n",
      "        LeakyReLU-15         [-1, 32, 112, 112]               0\n",
      "        MaxPool2d-16           [-1, 32, 56, 56]               0\n",
      "          Dropout-17           [-1, 32, 56, 56]               0\n",
      "            Block-18           [-1, 32, 56, 56]               0\n",
      "           Conv2d-19           [-1, 64, 56, 56]          18,496\n",
      "      BatchNorm2d-20           [-1, 64, 56, 56]             128\n",
      "        LeakyReLU-21           [-1, 64, 56, 56]               0\n",
      "           Conv2d-22           [-1, 64, 56, 56]          36,928\n",
      "      BatchNorm2d-23           [-1, 64, 56, 56]             128\n",
      "        LeakyReLU-24           [-1, 64, 56, 56]               0\n",
      "        MaxPool2d-25           [-1, 64, 28, 28]               0\n",
      "          Dropout-26           [-1, 64, 28, 28]               0\n",
      "            Block-27           [-1, 64, 28, 28]               0\n",
      "           Conv2d-28          [-1, 128, 28, 28]          73,856\n",
      "      BatchNorm2d-29          [-1, 128, 28, 28]             256\n",
      "        LeakyReLU-30          [-1, 128, 28, 28]               0\n",
      "           Conv2d-31          [-1, 128, 28, 28]         147,584\n",
      "      BatchNorm2d-32          [-1, 128, 28, 28]             256\n",
      "        LeakyReLU-33          [-1, 128, 28, 28]               0\n",
      "        MaxPool2d-34          [-1, 128, 14, 14]               0\n",
      "          Dropout-35          [-1, 128, 14, 14]               0\n",
      "            Block-36          [-1, 128, 14, 14]               0\n",
      "           Conv2d-37          [-1, 256, 14, 14]         295,168\n",
      "      BatchNorm2d-38          [-1, 256, 14, 14]             512\n",
      "        LeakyReLU-39          [-1, 256, 14, 14]               0\n",
      "           Conv2d-40          [-1, 256, 14, 14]         590,080\n",
      "      BatchNorm2d-41          [-1, 256, 14, 14]             512\n",
      "        LeakyReLU-42          [-1, 256, 14, 14]               0\n",
      "        MaxPool2d-43            [-1, 256, 7, 7]               0\n",
      "          Dropout-44            [-1, 256, 7, 7]               0\n",
      "            Block-45            [-1, 256, 7, 7]               0\n",
      "           Conv2d-46            [-1, 512, 7, 7]       1,180,160\n",
      "      BatchNorm2d-47            [-1, 512, 7, 7]           1,024\n",
      "        LeakyReLU-48            [-1, 512, 7, 7]               0\n",
      "           Conv2d-49            [-1, 512, 7, 7]       2,359,808\n",
      "      BatchNorm2d-50            [-1, 512, 7, 7]           1,024\n",
      "        LeakyReLU-51            [-1, 512, 7, 7]               0\n",
      "        MaxPool2d-52            [-1, 512, 3, 3]               0\n",
      "          Dropout-53            [-1, 512, 3, 3]               0\n",
      "            Block-54            [-1, 512, 3, 3]               0\n",
      "           Conv2d-55           [-1, 1024, 3, 3]       4,719,616\n",
      "      BatchNorm2d-56           [-1, 1024, 3, 3]           2,048\n",
      "        LeakyReLU-57           [-1, 1024, 3, 3]               0\n",
      "           Conv2d-58           [-1, 1024, 3, 3]       9,438,208\n",
      "      BatchNorm2d-59           [-1, 1024, 3, 3]           2,048\n",
      "        LeakyReLU-60           [-1, 1024, 3, 3]               0\n",
      "        MaxPool2d-61           [-1, 1024, 1, 1]               0\n",
      "          Dropout-62           [-1, 1024, 1, 1]               0\n",
      "            Block-63           [-1, 1024, 1, 1]               0\n",
      "          Flatten-64                 [-1, 1024]               0\n",
      "           Linear-65                  [-1, 512]         524,800\n",
      "             ReLU-66                  [-1, 512]               0\n",
      "          Dropout-67                  [-1, 512]               0\n",
      "           Linear-68                  [-1, 256]         131,328\n",
      "             ReLU-69                  [-1, 256]               0\n",
      "          Dropout-70                  [-1, 256]               0\n",
      "           Linear-71                    [-1, 2]             514\n",
      "          Softmax-72                    [-1, 2]               0\n",
      "================================================================\n",
      "Total params: 19,541,330\n",
      "Trainable params: 19,541,330\n",
      "Non-trainable params: 0\n",
      "----------------------------------------------------------------\n",
      "Input size (MB): 0.57\n",
      "Forward/backward pass size (MB): 81.83\n",
      "Params size (MB): 74.54\n",
      "Estimated Total Size (MB): 156.95\n",
      "----------------------------------------------------------------\n"
     ]
    },
    {
     "data": {
      "text/plain": [
       "CNN(\n",
       "  (block1): Block(\n",
       "    (conv1): Conv2d(3, 16, kernel_size=(3, 3), stride=(1, 1), padding=same)\n",
       "    (bn1): BatchNorm2d(16, eps=1e-05, momentum=0.9, affine=True, track_running_stats=True)\n",
       "    (leaky_relu1): LeakyReLU(negative_slope=0.1)\n",
       "    (conv2): Conv2d(16, 16, kernel_size=(3, 3), stride=(1, 1), padding=same)\n",
       "    (bn2): BatchNorm2d(16, eps=1e-05, momentum=0.9, affine=True, track_running_stats=True)\n",
       "    (leaky_relu2): LeakyReLU(negative_slope=0.1)\n",
       "    (pool): MaxPool2d(kernel_size=(2, 2), stride=(2, 2), padding=0, dilation=1, ceil_mode=False)\n",
       "    (dropout): Dropout(p=0.25, inplace=False)\n",
       "  )\n",
       "  (block2): Block(\n",
       "    (conv1): Conv2d(16, 32, kernel_size=(3, 3), stride=(1, 1), padding=same)\n",
       "    (bn1): BatchNorm2d(32, eps=1e-05, momentum=0.9, affine=True, track_running_stats=True)\n",
       "    (leaky_relu1): LeakyReLU(negative_slope=0.1)\n",
       "    (conv2): Conv2d(32, 32, kernel_size=(3, 3), stride=(1, 1), padding=same)\n",
       "    (bn2): BatchNorm2d(32, eps=1e-05, momentum=0.9, affine=True, track_running_stats=True)\n",
       "    (leaky_relu2): LeakyReLU(negative_slope=0.1)\n",
       "    (pool): MaxPool2d(kernel_size=(2, 2), stride=(2, 2), padding=0, dilation=1, ceil_mode=False)\n",
       "    (dropout): Dropout(p=0.25, inplace=False)\n",
       "  )\n",
       "  (block3): Block(\n",
       "    (conv1): Conv2d(32, 64, kernel_size=(3, 3), stride=(1, 1), padding=same)\n",
       "    (bn1): BatchNorm2d(64, eps=1e-05, momentum=0.9, affine=True, track_running_stats=True)\n",
       "    (leaky_relu1): LeakyReLU(negative_slope=0.1)\n",
       "    (conv2): Conv2d(64, 64, kernel_size=(3, 3), stride=(1, 1), padding=same)\n",
       "    (bn2): BatchNorm2d(64, eps=1e-05, momentum=0.9, affine=True, track_running_stats=True)\n",
       "    (leaky_relu2): LeakyReLU(negative_slope=0.1)\n",
       "    (pool): MaxPool2d(kernel_size=(2, 2), stride=(2, 2), padding=0, dilation=1, ceil_mode=False)\n",
       "    (dropout): Dropout(p=0.25, inplace=False)\n",
       "  )\n",
       "  (block4): Block(\n",
       "    (conv1): Conv2d(64, 128, kernel_size=(3, 3), stride=(1, 1), padding=same)\n",
       "    (bn1): BatchNorm2d(128, eps=1e-05, momentum=0.9, affine=True, track_running_stats=True)\n",
       "    (leaky_relu1): LeakyReLU(negative_slope=0.1)\n",
       "    (conv2): Conv2d(128, 128, kernel_size=(3, 3), stride=(1, 1), padding=same)\n",
       "    (bn2): BatchNorm2d(128, eps=1e-05, momentum=0.9, affine=True, track_running_stats=True)\n",
       "    (leaky_relu2): LeakyReLU(negative_slope=0.1)\n",
       "    (pool): MaxPool2d(kernel_size=(2, 2), stride=(2, 2), padding=0, dilation=1, ceil_mode=False)\n",
       "    (dropout): Dropout(p=0.25, inplace=False)\n",
       "  )\n",
       "  (block5): Block(\n",
       "    (conv1): Conv2d(128, 256, kernel_size=(3, 3), stride=(1, 1), padding=same)\n",
       "    (bn1): BatchNorm2d(256, eps=1e-05, momentum=0.9, affine=True, track_running_stats=True)\n",
       "    (leaky_relu1): LeakyReLU(negative_slope=0.1)\n",
       "    (conv2): Conv2d(256, 256, kernel_size=(3, 3), stride=(1, 1), padding=same)\n",
       "    (bn2): BatchNorm2d(256, eps=1e-05, momentum=0.9, affine=True, track_running_stats=True)\n",
       "    (leaky_relu2): LeakyReLU(negative_slope=0.1)\n",
       "    (pool): MaxPool2d(kernel_size=(2, 2), stride=(2, 2), padding=0, dilation=1, ceil_mode=False)\n",
       "    (dropout): Dropout(p=0.25, inplace=False)\n",
       "  )\n",
       "  (block6): Block(\n",
       "    (conv1): Conv2d(256, 512, kernel_size=(3, 3), stride=(1, 1), padding=same)\n",
       "    (bn1): BatchNorm2d(512, eps=1e-05, momentum=0.9, affine=True, track_running_stats=True)\n",
       "    (leaky_relu1): LeakyReLU(negative_slope=0.1)\n",
       "    (conv2): Conv2d(512, 512, kernel_size=(3, 3), stride=(1, 1), padding=same)\n",
       "    (bn2): BatchNorm2d(512, eps=1e-05, momentum=0.9, affine=True, track_running_stats=True)\n",
       "    (leaky_relu2): LeakyReLU(negative_slope=0.1)\n",
       "    (pool): MaxPool2d(kernel_size=(2, 2), stride=(2, 2), padding=0, dilation=1, ceil_mode=False)\n",
       "    (dropout): Dropout(p=0.25, inplace=False)\n",
       "  )\n",
       "  (block7): Block(\n",
       "    (conv1): Conv2d(512, 1024, kernel_size=(3, 3), stride=(1, 1), padding=same)\n",
       "    (bn1): BatchNorm2d(1024, eps=1e-05, momentum=0.9, affine=True, track_running_stats=True)\n",
       "    (leaky_relu1): LeakyReLU(negative_slope=0.1)\n",
       "    (conv2): Conv2d(1024, 1024, kernel_size=(3, 3), stride=(1, 1), padding=same)\n",
       "    (bn2): BatchNorm2d(1024, eps=1e-05, momentum=0.9, affine=True, track_running_stats=True)\n",
       "    (leaky_relu2): LeakyReLU(negative_slope=0.1)\n",
       "    (pool): MaxPool2d(kernel_size=(2, 2), stride=(2, 2), padding=0, dilation=1, ceil_mode=False)\n",
       "    (dropout): Dropout(p=0.25, inplace=False)\n",
       "  )\n",
       "  (flatten): Flatten(start_dim=1, end_dim=-1)\n",
       "  (fc1): Linear(in_features=1024, out_features=512, bias=True)\n",
       "  (relu1): ReLU()\n",
       "  (dropout1): Dropout(p=0.5, inplace=False)\n",
       "  (fc2): Linear(in_features=512, out_features=256, bias=True)\n",
       "  (relu2): ReLU()\n",
       "  (dropout2): Dropout(p=0.5, inplace=False)\n",
       "  (fc3): Linear(in_features=256, out_features=2, bias=True)\n",
       "  (softmax): Softmax(dim=1)\n",
       ")"
      ]
     },
     "execution_count": 3,
     "metadata": {},
     "output_type": "execute_result"
    }
   ],
   "source": [
    "model = CNN()\n",
    "summary(model, (3, 224, 224), device=\"cpu\")\n",
    "model.to(device)"
   ]
  },
  {
   "cell_type": "code",
   "execution_count": 4,
   "id": "54caf9f9",
   "metadata": {},
   "outputs": [],
   "source": [
    "def sweep():\n",
    "    config_default = None\n",
    "    with wandb.init(config=config_default):\n",
    "        config = wandb.config\n",
    "        trainloader, testloader, validloader = load_split_train_valid_test(path)\n",
    "        optimizer = optim.Adam(model.parameters(), lr=0.001)\n",
    "        criterion = nn.CrossEntropyLoss()\n",
    "        \n",
    "        criterion.to(device)\n",
    "\n",
    "        for epoch in range(config.epochs):\n",
    "            train_loss = 0\n",
    "            model.train()\n",
    "            for i, (images, labels) in enumerate(trainloader):\n",
    "                images = images.to(device)\n",
    "                labels = labels.to(device)\n",
    "\n",
    "                optimizer.zero_grad()\n",
    "                outputs = model(images)\n",
    "                loss = criterion(outputs, labels)\n",
    "                loss.backward()\n",
    "                optimizer.step()\n",
    "\n",
    "                train_loss += loss.item()\n",
    "            train_loss /= len(trainloader)\n",
    "            \n",
    "            # Evaluate on the validation set\n",
    "            model.eval()\n",
    "            true_positive = 0\n",
    "            true_negative = 0\n",
    "            false_positive = 0\n",
    "            false_negative = 0\n",
    "\n",
    "            valid_loss = 0\n",
    "\n",
    "            with torch.no_grad():\n",
    "                for i, (images, labels) in enumerate(validloader):\n",
    "                    images = images.to(device)\n",
    "                    labels = labels.to(device)\n",
    "\n",
    "                    outputs = model(images)\n",
    "                    loss = criterion(outputs, labels)\n",
    "                    _, pred = torch.max(outputs.data, 1)\n",
    "                    pred = pred\n",
    "                    true_positive += torch.sum(torch.bitwise_and(pred == labels, pred == 0)).item()\n",
    "                    true_negative += torch.sum(torch.bitwise_and(pred == labels, pred == 1)).item()\n",
    "                    false_negative += torch.sum(pred == 1).item() - torch.sum(\n",
    "                        torch.bitwise_and(pred == labels, pred == 1)).item()\n",
    "                    false_positive += torch.sum(pred == 0).item() - torch.sum(\n",
    "                        torch.bitwise_and(pred == labels, pred == 0)).item()\n",
    "                    valid_loss += loss.item()\n",
    "\n",
    "            valid_f1_score = true_positive / (true_positive + (false_positive + false_negative) / 2)\n",
    "            valid_accuracy = (true_positive + true_negative) / (\n",
    "                        true_positive + true_negative + false_positive + false_negative)\n",
    "\n",
    "            valid_loss /= len(validloader)\n",
    "\n",
    "            print(\"Epoch:\", epoch + 1, \"/\", config.epochs)\n",
    "            wandb.log({\n",
    "                \"Epoch\": epoch,\n",
    "                \"train_loss\": train_loss,\n",
    "                \"valid_loss\": valid_loss,\n",
    "                \"valid_accuracy\": valid_accuracy,\n",
    "                \"valid_f1_score\": valid_f1_score,\n",
    "            })"
   ]
  },
  {
   "cell_type": "code",
   "execution_count": 5,
   "id": "20f154cf",
   "metadata": {},
   "outputs": [
    {
     "name": "stdout",
     "output_type": "stream",
     "text": [
      "\u001b[34m\u001b[1mwandb\u001b[0m: Currently logged in as: \u001b[33mttra0058\u001b[0m (use `wandb login --relogin` to force relogin)\r\n"
     ]
    }
   ],
   "source": [
    "!wandb login"
   ]
  },
  {
   "cell_type": "code",
   "execution_count": 6,
   "id": "3984143a",
   "metadata": {},
   "outputs": [],
   "source": [
    "sweep_config = {\n",
    "    'name': 'CustomCNN',\n",
    "    'method': 'grid',\n",
    "    'parameters': {\n",
    "        'epochs': {\n",
    "            'values': [50]\n",
    "        },\n",
    "    }\n",
    "}"
   ]
  },
  {
   "cell_type": "code",
   "execution_count": 7,
   "id": "4ec4d069",
   "metadata": {},
   "outputs": [
    {
     "name": "stdout",
     "output_type": "stream",
     "text": [
      "Create sweep with ID: 0cbdcbe1\n",
      "Sweep URL: https://wandb.ai/team17/cancer/sweeps/0cbdcbe1\n"
     ]
    }
   ],
   "source": [
    "sweep_id = wandb.sweep(sweep_config, project=\"cancer\", entity=\"team17\")"
   ]
  },
  {
   "cell_type": "code",
   "execution_count": 8,
   "id": "d74398a0",
   "metadata": {},
   "outputs": [
    {
     "name": "stderr",
     "output_type": "stream",
     "text": [
      "\u001b[34m\u001b[1mwandb\u001b[0m: Agent Starting Run: b73ng4zq with config:\n",
      "\u001b[34m\u001b[1mwandb\u001b[0m: \tepochs: 50\n",
      "\u001b[34m\u001b[1mwandb\u001b[0m: Currently logged in as: \u001b[33mttra0058\u001b[0m (use `wandb login --relogin` to force relogin)\n",
      "\u001b[34m\u001b[1mwandb\u001b[0m: wandb version 0.12.0 is available!  To upgrade, please run:\n",
      "\u001b[34m\u001b[1mwandb\u001b[0m:  $ pip install wandb --upgrade\n"
     ]
    },
    {
     "data": {
      "text/html": [
       "\n",
       "                Tracking run with wandb version 0.11.0<br/>\n",
       "                Syncing run <strong style=\"color:#cdcd00\">sweet-sweep-1</strong> to <a href=\"https://wandb.ai\" target=\"_blank\">Weights & Biases</a> <a href=\"https://docs.wandb.com/integrations/jupyter.html\" target=\"_blank\">(Documentation)</a>.<br/>\n",
       "                Project page: <a href=\"https://wandb.ai/team17/cancer\" target=\"_blank\">https://wandb.ai/team17/cancer</a><br/>\n",
       "                Sweep page: <a href=\"https://wandb.ai/team17/cancer/sweeps/0cbdcbe1\" target=\"_blank\">https://wandb.ai/team17/cancer/sweeps/0cbdcbe1</a><br/>\n",
       "Run page: <a href=\"https://wandb.ai/team17/cancer/runs/b73ng4zq\" target=\"_blank\">https://wandb.ai/team17/cancer/runs/b73ng4zq</a><br/>\n",
       "                Run data is saved locally in <code>/usr/local/dev/cancer/xgboost/wandb/run-20210815_153335-b73ng4zq</code><br/><br/>\n",
       "            "
      ],
      "text/plain": [
       "<IPython.core.display.HTML object>"
      ]
     },
     "metadata": {},
     "output_type": "display_data"
    },
    {
     "name": "stdout",
     "output_type": "stream",
     "text": [
      "Epoch: 1 / 50\n",
      "Epoch: 2 / 50\n",
      "Epoch: 3 / 50\n",
      "Epoch: 4 / 50\n",
      "Epoch: 5 / 50\n",
      "Epoch: 6 / 50\n",
      "Epoch: 7 / 50\n",
      "Epoch: 8 / 50\n",
      "Epoch: 9 / 50\n",
      "Epoch: 10 / 50\n",
      "Epoch: 11 / 50\n",
      "Epoch: 12 / 50\n",
      "Epoch: 13 / 50\n",
      "Epoch: 14 / 50\n",
      "Epoch: 15 / 50\n",
      "Epoch: 16 / 50\n",
      "Epoch: 17 / 50\n",
      "Epoch: 18 / 50\n",
      "Epoch: 19 / 50\n",
      "Epoch: 20 / 50\n",
      "Epoch: 21 / 50\n",
      "Epoch: 22 / 50\n",
      "Epoch: 23 / 50\n",
      "Epoch: 24 / 50\n",
      "Epoch: 25 / 50\n",
      "Epoch: 26 / 50\n",
      "Epoch: 27 / 50\n",
      "Epoch: 28 / 50\n",
      "Epoch: 29 / 50\n",
      "Epoch: 30 / 50\n",
      "Epoch: 31 / 50\n",
      "Epoch: 32 / 50\n",
      "Epoch: 33 / 50\n",
      "Epoch: 34 / 50\n",
      "Epoch: 35 / 50\n",
      "Epoch: 36 / 50\n",
      "Epoch: 37 / 50\n",
      "Epoch: 38 / 50\n",
      "Epoch: 39 / 50\n",
      "Epoch: 40 / 50\n",
      "Epoch: 41 / 50\n",
      "Epoch: 42 / 50\n",
      "Epoch: 43 / 50\n",
      "Epoch: 44 / 50\n",
      "Epoch: 45 / 50\n",
      "Epoch: 46 / 50\n",
      "Epoch: 47 / 50\n",
      "Epoch: 48 / 50\n",
      "Epoch: 49 / 50\n",
      "Epoch: 50 / 50\n"
     ]
    },
    {
     "data": {
      "text/html": [
       "<br/>Waiting for W&B process to finish, PID 28729<br/>Program ended successfully."
      ],
      "text/plain": [
       "<IPython.core.display.HTML object>"
      ]
     },
     "metadata": {},
     "output_type": "display_data"
    },
    {
     "data": {
      "application/vnd.jupyter.widget-view+json": {
       "model_id": "",
       "version_major": 2,
       "version_minor": 0
      },
      "text/plain": [
       "VBox(children=(Label(value=' 0.00MB of 0.00MB uploaded (0.00MB deduped)\\r'), FloatProgress(value=1.0, max=1.0)…"
      ]
     },
     "metadata": {},
     "output_type": "display_data"
    },
    {
     "data": {
      "text/html": [
       "Find user logs for this run at: <code>/usr/local/dev/cancer/xgboost/wandb/run-20210815_153335-b73ng4zq/logs/debug.log</code>"
      ],
      "text/plain": [
       "<IPython.core.display.HTML object>"
      ]
     },
     "metadata": {},
     "output_type": "display_data"
    },
    {
     "data": {
      "text/html": [
       "Find internal logs for this run at: <code>/usr/local/dev/cancer/xgboost/wandb/run-20210815_153335-b73ng4zq/logs/debug-internal.log</code>"
      ],
      "text/plain": [
       "<IPython.core.display.HTML object>"
      ]
     },
     "metadata": {},
     "output_type": "display_data"
    },
    {
     "data": {
      "text/html": [
       "<h3>Run summary:</h3><br/><style>\n",
       "    table.wandb td:nth-child(1) { padding: 0 10px; text-align: right }\n",
       "    </style><table class=\"wandb\">\n",
       "<tr><td>Epoch</td><td>49</td></tr><tr><td>train_loss</td><td>0.504</td></tr><tr><td>valid_loss</td><td>0.51774</td></tr><tr><td>valid_accuracy</td><td>0.78774</td></tr><tr><td>valid_f1_score</td><td>0.72747</td></tr><tr><td>_runtime</td><td>50687</td></tr><tr><td>_timestamp</td><td>1629056302</td></tr><tr><td>_step</td><td>49</td></tr></table>"
      ],
      "text/plain": [
       "<IPython.core.display.HTML object>"
      ]
     },
     "metadata": {},
     "output_type": "display_data"
    },
    {
     "data": {
      "text/html": [
       "<h3>Run history:</h3><br/><style>\n",
       "    table.wandb td:nth-child(1) { padding: 0 10px; text-align: right }\n",
       "    </style><table class=\"wandb\">\n",
       "<tr><td>Epoch</td><td>▁▁▁▁▂▂▂▂▂▃▃▃▃▃▃▄▄▄▄▄▅▅▅▅▅▅▆▆▆▆▆▆▇▇▇▇▇███</td></tr><tr><td>train_loss</td><td>█▇▆▆▄▄▄▃▃▃▃▃▂▂▂▂▂▂▂▂▂▂▂▂▂▂▁▁▃▂▁▂▁▁▁▁▁▁▁▂</td></tr><tr><td>valid_loss</td><td>▆▆█▄▅▄▃▂▂▂▃▄▅▂▅▁▃▃▂▃▄▁▃▄▃▆▃▄▂▆▅▄▃▃▃▄▁▃▂▂</td></tr><tr><td>valid_accuracy</td><td>▂▃▁▄▄▅▅▇▇▇▆▅▅▇▄█▆▆▇▆▄█▅▅▅▃▆▅▇▄▅▅▇▆▇▅█▆▇▇</td></tr><tr><td>valid_f1_score</td><td>▃▁▅▄▆▆▄▇▇▇▇▇▇▇▇▇▇▇▇▇▇█▇▇▇▆▇▇█▇▇▇█▇█▇█▇█▇</td></tr><tr><td>_runtime</td><td>▁▁▁▁▂▂▂▂▂▃▃▃▃▃▃▄▄▄▄▄▅▅▅▅▅▆▆▆▆▆▆▇▇▇▇▇▇███</td></tr><tr><td>_timestamp</td><td>▁▁▁▁▂▂▂▂▂▃▃▃▃▃▃▄▄▄▄▄▅▅▅▅▅▆▆▆▆▆▆▇▇▇▇▇▇███</td></tr><tr><td>_step</td><td>▁▁▁▁▂▂▂▂▂▃▃▃▃▃▃▄▄▄▄▄▅▅▅▅▅▅▆▆▆▆▆▆▇▇▇▇▇███</td></tr></table><br/>"
      ],
      "text/plain": [
       "<IPython.core.display.HTML object>"
      ]
     },
     "metadata": {},
     "output_type": "display_data"
    },
    {
     "data": {
      "text/html": [
       "Synced 6 W&B file(s), 0 media file(s), 0 artifact file(s) and 0 other file(s)"
      ],
      "text/plain": [
       "<IPython.core.display.HTML object>"
      ]
     },
     "metadata": {},
     "output_type": "display_data"
    },
    {
     "data": {
      "text/html": [
       "\n",
       "                    <br/>Synced <strong style=\"color:#cdcd00\">sweet-sweep-1</strong>: <a href=\"https://wandb.ai/team17/cancer/runs/b73ng4zq\" target=\"_blank\">https://wandb.ai/team17/cancer/runs/b73ng4zq</a><br/>\n",
       "                "
      ],
      "text/plain": [
       "<IPython.core.display.HTML object>"
      ]
     },
     "metadata": {},
     "output_type": "display_data"
    },
    {
     "name": "stderr",
     "output_type": "stream",
     "text": [
      "\u001b[34m\u001b[1mwandb\u001b[0m: Sweep Agent: Waiting for job.\n",
      "\u001b[34m\u001b[1mwandb\u001b[0m: Sweep Agent: Exiting.\n"
     ]
    }
   ],
   "source": [
    "wandb.agent(sweep_id, sweep)"
   ]
  },
  {
   "cell_type": "code",
   "execution_count": null,
   "id": "34ec9071",
   "metadata": {},
   "outputs": [],
   "source": []
  }
 ],
 "metadata": {
  "kernelspec": {
   "display_name": "cancer",
   "language": "python",
   "name": "cancer"
  },
  "language_info": {
   "codemirror_mode": {
    "name": "ipython",
    "version": 3
   },
   "file_extension": ".py",
   "mimetype": "text/x-python",
   "name": "python",
   "nbconvert_exporter": "python",
   "pygments_lexer": "ipython3",
   "version": "3.9.5"
  }
 },
 "nbformat": 4,
 "nbformat_minor": 5
}
