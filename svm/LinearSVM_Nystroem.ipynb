{
 "cells": [
  {
   "cell_type": "code",
   "execution_count": 1,
   "id": "ab8018bf",
   "metadata": {},
   "outputs": [
    {
     "name": "stdout",
     "output_type": "stream",
     "text": [
      "\u001b[34m\u001b[1mwandb\u001b[0m: Currently logged in as: \u001b[33mttra0058\u001b[0m (use `wandb login --relogin` to force relogin)\r\n"
     ]
    }
   ],
   "source": [
    "!wandb login"
   ]
  },
  {
   "cell_type": "code",
   "execution_count": 2,
   "id": "d6c61dc2",
   "metadata": {},
   "outputs": [],
   "source": [
    "import torch\n",
    "import pandas as pd\n",
    "import os\n",
    "import wandb\n",
    "import numpy as np\n",
    "import matplotlib.pyplot as plt\n",
    "from skimage.transform import resize\n",
    "from skimage.io import imread, imread_collection\n",
    "from sklearn.linear_model import SGDClassifier\n",
    "from sklearn.model_selection import GridSearchCV\n",
    "from sklearn.metrics import accuracy_score\n",
    "from sklearn.utils import shuffle\n",
    "from torchvision import datasets, transforms\n",
    "from torch.utils.data.sampler import SubsetRandomSampler"
   ]
  },
  {
   "cell_type": "code",
   "execution_count": 3,
   "id": "93e91f02",
   "metadata": {},
   "outputs": [],
   "source": [
    "os.environ[\"WANDB\"] = \"dryrun\"\n",
    "sweep_config = {\n",
    "    'name': 'LinearSVC_continue_2',\n",
    "    'method': 'grid',\n",
    "    'metric': {\n",
    "        'name': 'f1-score',\n",
    "        'goal': 'maximize'\n",
    "    },\n",
    "    'parameters': {\n",
    "        'alpha': {\n",
    "            'values': [0.01, 0.1]\n",
    "        },\n",
    "        'eta0': {\n",
    "            'values': [0.0001, 0.001, 0.01, 0.1]\n",
    "        }\n",
    "    }\n",
    "}"
   ]
  },
  {
   "cell_type": "code",
   "execution_count": 4,
   "id": "914f24ef",
   "metadata": {},
   "outputs": [
    {
     "name": "stdout",
     "output_type": "stream",
     "text": [
      "Create sweep with ID: eyz1o9kf\n",
      "Sweep URL: https://wandb.ai/team17/cancer/sweeps/eyz1o9kf\n"
     ]
    }
   ],
   "source": [
    "sweep_id = wandb.sweep(sweep_config, project=\"cancer\", entity=\"team17\")"
   ]
  },
  {
   "cell_type": "code",
   "execution_count": 5,
   "id": "42c6743e",
   "metadata": {},
   "outputs": [],
   "source": [
    "def load_split_train_test(datadir,train_transforms,test_transforms, validation_transforms, validation_proportion=0.10, test_proportion=0.2, bs=2000, random_state=9999):\n",
    "    train_data = datasets.ImageFolder(datadir,       \n",
    "                    transform=train_transforms)\n",
    "    test_data = datasets.ImageFolder(datadir,\n",
    "                    transform=test_transforms)\n",
    "    validation_data = datasets.ImageFolder(datadir,\n",
    "                    transform=validation_transforms)\n",
    "    num_train = len(train_data)\n",
    "    indices = list(range(num_train))\n",
    "    test_size = int(np.floor(test_proportion * num_train))\n",
    "    validation_size = int(np.floor(validation_proportion * num_train))\n",
    "    np.random.seed(random_state)\n",
    "    np.random.shuffle(indices)\n",
    "    train_idx, test_idx, validation_idx = indices[test_size+validation_size:], indices[:test_size], indices[test_size:test_size+validation_size]\n",
    "    train_sampler = SubsetRandomSampler(train_idx)\n",
    "    test_sampler = SubsetRandomSampler(test_idx)\n",
    "    validation_sampler = SubsetRandomSampler(validation_idx)\n",
    "    trainloader = torch.utils.data.DataLoader(train_data,\n",
    "                   sampler=train_sampler, batch_size=bs)\n",
    "    testloader = torch.utils.data.DataLoader(test_data,\n",
    "                   sampler=test_sampler, batch_size=bs)\n",
    "    validationloader = torch.utils.data.DataLoader(validation_data,\n",
    "                   sampler=validation_sampler, batch_size=bs)\n",
    "    return trainloader, testloader, validationloader"
   ]
  },
  {
   "cell_type": "code",
   "execution_count": 6,
   "id": "cb05c3f7",
   "metadata": {},
   "outputs": [],
   "source": [
    "train_transforms = transforms.Compose([transforms.Resize(224),\n",
    "                                       transforms.ToTensor(),\n",
    "                                       transforms.Lambda(lambda x: torch.flatten(x)),\n",
    "                                      ])\n",
    "test_transforms = transforms.Compose([transforms.Resize(224),\n",
    "                                       transforms.ToTensor(),\n",
    "                                       transforms.Lambda(lambda x: torch.flatten(x)),\n",
    "                                      ])\n",
    "validation_transforms = transforms.Compose([transforms.Resize(224),\n",
    "                                            transforms.ToTensor(),\n",
    "                                            transforms.Lambda(lambda x: torch.flatten(x)),\n",
    "                                           ])"
   ]
  },
  {
   "cell_type": "code",
   "execution_count": 7,
   "id": "7d5b11b2",
   "metadata": {},
   "outputs": [],
   "source": [
    "# Data path\n",
    "path = os.path.join(os.path.dirname(os.getcwd()), 'data/')"
   ]
  },
  {
   "cell_type": "code",
   "execution_count": 8,
   "id": "a1be1e84",
   "metadata": {},
   "outputs": [],
   "source": [
    "trainloader, testloader, validationloader = load_split_train_test(path, train_transforms,test_transforms, validation_transforms)"
   ]
  },
  {
   "cell_type": "code",
   "execution_count": 9,
   "id": "549b69b1",
   "metadata": {},
   "outputs": [],
   "source": [
    "def train():\n",
    "    config_defaults = {\n",
    "        'alpha': 0.001,\n",
    "        'eta0': 0.001\n",
    "    }\n",
    "    # Initialize a new wandb run\n",
    "    wandb.init(config=config_defaults)\n",
    "    \n",
    "    config = wandb.config\n",
    "    \n",
    "    model = SGDClassifier(alpha=config.alpha, learning_rate='constant', verbose=False, eta0=config.eta0)\n",
    "    \n",
    "    epochs = 30\n",
    "    # Config is a variable that holds and saves hyperparameters and inputs\n",
    "    for epoch in range(epochs):\n",
    "        # fit the SVM model using SGD optimizer\n",
    "        for inputs, labels in trainloader:\n",
    "            model.partial_fit(inputs, labels, classes=np.array([0,1]))\n",
    "        \n",
    "        # calculate the F-score and accuracy on the validation sets\n",
    "        true_positive = 0\n",
    "        false_negative = 0\n",
    "        false_positive = 0\n",
    "        true_negative = 0\n",
    "        n_validation = 0\n",
    "        for inputs, labels in validationloader:\n",
    "            pred = torch.Tensor(model.predict(inputs))\n",
    "            true_positive += torch.sum(torch.bitwise_and(pred == labels, pred == 0)).item()\n",
    "            true_negative += torch.sum(torch.bitwise_and(pred == labels, pred == 1)).item()\n",
    "            false_negative += torch.sum(pred == 1).item() - torch.sum(torch.bitwise_and(pred == labels, pred == 1)).item()\n",
    "            false_positive += torch.sum(pred == 0).item() - torch.sum(torch.bitwise_and(pred == labels, pred == 0)).item()\n",
    "            n_validation += labels.shape[0]\n",
    "\n",
    "        validation_f1_score = true_positive / (true_positive + (false_positive+false_negative)/2)\n",
    "        validation_accuracy = (true_positive+true_negative)/n_validation\n",
    "\n",
    "        wandb.log({\n",
    "            'Epoch': epoch,\n",
    "            'F1_score': validation_f1_score,\n",
    "            'Accuracy': validation_accuracy,\n",
    "                  })"
   ]
  },
  {
   "cell_type": "code",
   "execution_count": 10,
   "id": "7e9578a9",
   "metadata": {
    "scrolled": true
   },
   "outputs": [
    {
     "name": "stderr",
     "output_type": "stream",
     "text": [
      "\u001b[34m\u001b[1mwandb\u001b[0m: Agent Starting Run: iszew46v with config:\n",
      "\u001b[34m\u001b[1mwandb\u001b[0m: \talpha: 0.01\n",
      "\u001b[34m\u001b[1mwandb\u001b[0m: \teta0: 0.0001\n",
      "\u001b[34m\u001b[1mwandb\u001b[0m: Currently logged in as: \u001b[33mttra0058\u001b[0m (use `wandb login --relogin` to force relogin)\n",
      "\u001b[34m\u001b[1mwandb\u001b[0m: wandb version 0.11.2 is available!  To upgrade, please run:\n",
      "\u001b[34m\u001b[1mwandb\u001b[0m:  $ pip install wandb --upgrade\n"
     ]
    },
    {
     "data": {
      "text/html": [
       "\n",
       "                Tracking run with wandb version 0.11.0<br/>\n",
       "                Syncing run <strong style=\"color:#cdcd00\">honest-sweep-1</strong> to <a href=\"https://wandb.ai\" target=\"_blank\">Weights & Biases</a> <a href=\"https://docs.wandb.com/integrations/jupyter.html\" target=\"_blank\">(Documentation)</a>.<br/>\n",
       "                Project page: <a href=\"https://wandb.ai/team17/cancer\" target=\"_blank\">https://wandb.ai/team17/cancer</a><br/>\n",
       "                Sweep page: <a href=\"https://wandb.ai/team17/cancer/sweeps/eyz1o9kf\" target=\"_blank\">https://wandb.ai/team17/cancer/sweeps/eyz1o9kf</a><br/>\n",
       "Run page: <a href=\"https://wandb.ai/team17/cancer/runs/iszew46v\" target=\"_blank\">https://wandb.ai/team17/cancer/runs/iszew46v</a><br/>\n",
       "                Run data is saved locally in <code>/usr/local/dev/cancer/svm/wandb/run-20210807_002401-iszew46v</code><br/><br/>\n",
       "            "
      ],
      "text/plain": [
       "<IPython.core.display.HTML object>"
      ]
     },
     "metadata": {},
     "output_type": "display_data"
    },
    {
     "data": {
      "text/html": [
       "<br/>Waiting for W&B process to finish, PID 113649<br/>Program ended successfully."
      ],
      "text/plain": [
       "<IPython.core.display.HTML object>"
      ]
     },
     "metadata": {},
     "output_type": "display_data"
    },
    {
     "data": {
      "application/vnd.jupyter.widget-view+json": {
       "model_id": "",
       "version_major": 2,
       "version_minor": 0
      },
      "text/plain": [
       "VBox(children=(Label(value=' 0.00MB of 0.00MB uploaded (0.00MB deduped)\\r'), FloatProgress(value=1.0, max=1.0)…"
      ]
     },
     "metadata": {},
     "output_type": "display_data"
    },
    {
     "data": {
      "text/html": [
       "Find user logs for this run at: <code>/usr/local/dev/cancer/svm/wandb/run-20210807_002401-iszew46v/logs/debug.log</code>"
      ],
      "text/plain": [
       "<IPython.core.display.HTML object>"
      ]
     },
     "metadata": {},
     "output_type": "display_data"
    },
    {
     "data": {
      "text/html": [
       "Find internal logs for this run at: <code>/usr/local/dev/cancer/svm/wandb/run-20210807_002401-iszew46v/logs/debug-internal.log</code>"
      ],
      "text/plain": [
       "<IPython.core.display.HTML object>"
      ]
     },
     "metadata": {},
     "output_type": "display_data"
    },
    {
     "data": {
      "text/html": [
       "<h3>Run summary:</h3><br/><style>\n",
       "    table.wandb td:nth-child(1) { padding: 0 10px; text-align: right }\n",
       "    </style><table class=\"wandb\">\n",
       "<tr><td>Epoch</td><td>29</td></tr><tr><td>F1_score</td><td>0.40711</td></tr><tr><td>Accuracy</td><td>0.52457</td></tr><tr><td>_runtime</td><td>8961</td></tr><tr><td>_timestamp</td><td>1628268802</td></tr><tr><td>_step</td><td>29</td></tr></table>"
      ],
      "text/plain": [
       "<IPython.core.display.HTML object>"
      ]
     },
     "metadata": {},
     "output_type": "display_data"
    },
    {
     "data": {
      "text/html": [
       "<h3>Run history:</h3><br/><style>\n",
       "    table.wandb td:nth-child(1) { padding: 0 10px; text-align: right }\n",
       "    </style><table class=\"wandb\">\n",
       "<tr><td>Epoch</td><td>▁▁▁▂▂▂▂▃▃▃▃▄▄▄▄▅▅▅▅▆▆▆▆▇▇▇▇███</td></tr><tr><td>F1_score</td><td>▁█▆▁▁▁▃▇▁█▆▄▁▁▂█▁▇▃█▅▁▁█▃▂█▁█▆</td></tr><tr><td>Accuracy</td><td>█▁▆███▇▅█▁▅▆███▁█▄▇▂▆██▁▇█▁█▁▅</td></tr><tr><td>_runtime</td><td>▁▁▂▂▂▃▃▃▃▃▄▄▄▄▅▅▅▅▅▆▆▆▆▇▇▇▇███</td></tr><tr><td>_timestamp</td><td>▁▁▂▂▂▃▃▃▃▃▄▄▄▄▅▅▅▅▅▆▆▆▆▇▇▇▇███</td></tr><tr><td>_step</td><td>▁▁▁▂▂▂▂▃▃▃▃▄▄▄▄▅▅▅▅▆▆▆▆▇▇▇▇███</td></tr></table><br/>"
      ],
      "text/plain": [
       "<IPython.core.display.HTML object>"
      ]
     },
     "metadata": {},
     "output_type": "display_data"
    },
    {
     "data": {
      "text/html": [
       "Synced 5 W&B file(s), 0 media file(s), 0 artifact file(s) and 0 other file(s)"
      ],
      "text/plain": [
       "<IPython.core.display.HTML object>"
      ]
     },
     "metadata": {},
     "output_type": "display_data"
    },
    {
     "data": {
      "text/html": [
       "\n",
       "                    <br/>Synced <strong style=\"color:#cdcd00\">honest-sweep-1</strong>: <a href=\"https://wandb.ai/team17/cancer/runs/iszew46v\" target=\"_blank\">https://wandb.ai/team17/cancer/runs/iszew46v</a><br/>\n",
       "                "
      ],
      "text/plain": [
       "<IPython.core.display.HTML object>"
      ]
     },
     "metadata": {},
     "output_type": "display_data"
    },
    {
     "name": "stderr",
     "output_type": "stream",
     "text": [
      "\u001b[34m\u001b[1mwandb\u001b[0m: Agent Starting Run: d86yas6k with config:\n",
      "\u001b[34m\u001b[1mwandb\u001b[0m: \talpha: 0.01\n",
      "\u001b[34m\u001b[1mwandb\u001b[0m: \teta0: 0.001\n",
      "\u001b[34m\u001b[1mwandb\u001b[0m: wandb version 0.11.2 is available!  To upgrade, please run:\n",
      "\u001b[34m\u001b[1mwandb\u001b[0m:  $ pip install wandb --upgrade\n"
     ]
    },
    {
     "data": {
      "text/html": [
       "\n",
       "                Tracking run with wandb version 0.11.0<br/>\n",
       "                Syncing run <strong style=\"color:#cdcd00\">fragrant-sweep-2</strong> to <a href=\"https://wandb.ai\" target=\"_blank\">Weights & Biases</a> <a href=\"https://docs.wandb.com/integrations/jupyter.html\" target=\"_blank\">(Documentation)</a>.<br/>\n",
       "                Project page: <a href=\"https://wandb.ai/team17/cancer\" target=\"_blank\">https://wandb.ai/team17/cancer</a><br/>\n",
       "                Sweep page: <a href=\"https://wandb.ai/team17/cancer/sweeps/eyz1o9kf\" target=\"_blank\">https://wandb.ai/team17/cancer/sweeps/eyz1o9kf</a><br/>\n",
       "Run page: <a href=\"https://wandb.ai/team17/cancer/runs/d86yas6k\" target=\"_blank\">https://wandb.ai/team17/cancer/runs/d86yas6k</a><br/>\n",
       "                Run data is saved locally in <code>/usr/local/dev/cancer/svm/wandb/run-20210807_025327-d86yas6k</code><br/><br/>\n",
       "            "
      ],
      "text/plain": [
       "<IPython.core.display.HTML object>"
      ]
     },
     "metadata": {},
     "output_type": "display_data"
    },
    {
     "data": {
      "text/html": [
       "<br/>Waiting for W&B process to finish, PID 119427<br/>Program ended successfully."
      ],
      "text/plain": [
       "<IPython.core.display.HTML object>"
      ]
     },
     "metadata": {},
     "output_type": "display_data"
    },
    {
     "data": {
      "application/vnd.jupyter.widget-view+json": {
       "model_id": "",
       "version_major": 2,
       "version_minor": 0
      },
      "text/plain": [
       "VBox(children=(Label(value=' 0.00MB of 0.00MB uploaded (0.00MB deduped)\\r'), FloatProgress(value=1.0, max=1.0)…"
      ]
     },
     "metadata": {},
     "output_type": "display_data"
    },
    {
     "data": {
      "text/html": [
       "Find user logs for this run at: <code>/usr/local/dev/cancer/svm/wandb/run-20210807_025327-d86yas6k/logs/debug.log</code>"
      ],
      "text/plain": [
       "<IPython.core.display.HTML object>"
      ]
     },
     "metadata": {},
     "output_type": "display_data"
    },
    {
     "data": {
      "text/html": [
       "Find internal logs for this run at: <code>/usr/local/dev/cancer/svm/wandb/run-20210807_025327-d86yas6k/logs/debug-internal.log</code>"
      ],
      "text/plain": [
       "<IPython.core.display.HTML object>"
      ]
     },
     "metadata": {},
     "output_type": "display_data"
    },
    {
     "data": {
      "text/html": [
       "<h3>Run summary:</h3><br/><style>\n",
       "    table.wandb td:nth-child(1) { padding: 0 10px; text-align: right }\n",
       "    </style><table class=\"wandb\">\n",
       "<tr><td>Epoch</td><td>29</td></tr><tr><td>F1_score</td><td>0.0</td></tr><tr><td>Accuracy</td><td>0.60517</td></tr><tr><td>_runtime</td><td>8371</td></tr><tr><td>_timestamp</td><td>1628277178</td></tr><tr><td>_step</td><td>29</td></tr></table>"
      ],
      "text/plain": [
       "<IPython.core.display.HTML object>"
      ]
     },
     "metadata": {},
     "output_type": "display_data"
    },
    {
     "data": {
      "text/html": [
       "<h3>Run history:</h3><br/><style>\n",
       "    table.wandb td:nth-child(1) { padding: 0 10px; text-align: right }\n",
       "    </style><table class=\"wandb\">\n",
       "<tr><td>Epoch</td><td>▁▁▁▂▂▂▂▃▃▃▃▄▄▄▄▅▅▅▅▆▆▆▆▇▇▇▇███</td></tr><tr><td>F1_score</td><td>▂█▁█▁█▅█▅▁▁█▁▁███▁▇▁██▁▁▁▁▁█▁▁</td></tr><tr><td>Accuracy</td><td>█▁█▁█▁▆▁▆██▁██▁▁▁█▃█▁▁█████▁██</td></tr><tr><td>_runtime</td><td>▁▁▁▂▂▂▂▃▃▃▃▄▄▄▄▅▅▅▅▆▆▆▆▇▇▇▇███</td></tr><tr><td>_timestamp</td><td>▁▁▁▂▂▂▂▃▃▃▃▄▄▄▄▅▅▅▅▆▆▆▆▇▇▇▇███</td></tr><tr><td>_step</td><td>▁▁▁▂▂▂▂▃▃▃▃▄▄▄▄▅▅▅▅▆▆▆▆▇▇▇▇███</td></tr></table><br/>"
      ],
      "text/plain": [
       "<IPython.core.display.HTML object>"
      ]
     },
     "metadata": {},
     "output_type": "display_data"
    },
    {
     "data": {
      "text/html": [
       "Synced 5 W&B file(s), 0 media file(s), 0 artifact file(s) and 0 other file(s)"
      ],
      "text/plain": [
       "<IPython.core.display.HTML object>"
      ]
     },
     "metadata": {},
     "output_type": "display_data"
    },
    {
     "data": {
      "text/html": [
       "\n",
       "                    <br/>Synced <strong style=\"color:#cdcd00\">fragrant-sweep-2</strong>: <a href=\"https://wandb.ai/team17/cancer/runs/d86yas6k\" target=\"_blank\">https://wandb.ai/team17/cancer/runs/d86yas6k</a><br/>\n",
       "                "
      ],
      "text/plain": [
       "<IPython.core.display.HTML object>"
      ]
     },
     "metadata": {},
     "output_type": "display_data"
    },
    {
     "name": "stderr",
     "output_type": "stream",
     "text": [
      "\u001b[34m\u001b[1mwandb\u001b[0m: Agent Starting Run: vpfpo7gl with config:\n",
      "\u001b[34m\u001b[1mwandb\u001b[0m: \talpha: 0.01\n",
      "\u001b[34m\u001b[1mwandb\u001b[0m: \teta0: 0.01\n",
      "\u001b[34m\u001b[1mwandb\u001b[0m: wandb version 0.11.2 is available!  To upgrade, please run:\n",
      "\u001b[34m\u001b[1mwandb\u001b[0m:  $ pip install wandb --upgrade\n"
     ]
    },
    {
     "data": {
      "text/html": [
       "\n",
       "                Tracking run with wandb version 0.11.0<br/>\n",
       "                Syncing run <strong style=\"color:#cdcd00\">fancy-sweep-3</strong> to <a href=\"https://wandb.ai\" target=\"_blank\">Weights & Biases</a> <a href=\"https://docs.wandb.com/integrations/jupyter.html\" target=\"_blank\">(Documentation)</a>.<br/>\n",
       "                Project page: <a href=\"https://wandb.ai/team17/cancer\" target=\"_blank\">https://wandb.ai/team17/cancer</a><br/>\n",
       "                Sweep page: <a href=\"https://wandb.ai/team17/cancer/sweeps/eyz1o9kf\" target=\"_blank\">https://wandb.ai/team17/cancer/sweeps/eyz1o9kf</a><br/>\n",
       "Run page: <a href=\"https://wandb.ai/team17/cancer/runs/vpfpo7gl\" target=\"_blank\">https://wandb.ai/team17/cancer/runs/vpfpo7gl</a><br/>\n",
       "                Run data is saved locally in <code>/usr/local/dev/cancer/svm/wandb/run-20210807_051303-vpfpo7gl</code><br/><br/>\n",
       "            "
      ],
      "text/plain": [
       "<IPython.core.display.HTML object>"
      ]
     },
     "metadata": {},
     "output_type": "display_data"
    },
    {
     "data": {
      "text/html": [
       "<br/>Waiting for W&B process to finish, PID 123742<br/>Program ended successfully."
      ],
      "text/plain": [
       "<IPython.core.display.HTML object>"
      ]
     },
     "metadata": {},
     "output_type": "display_data"
    },
    {
     "data": {
      "application/vnd.jupyter.widget-view+json": {
       "model_id": "",
       "version_major": 2,
       "version_minor": 0
      },
      "text/plain": [
       "VBox(children=(Label(value=' 0.00MB of 0.00MB uploaded (0.00MB deduped)\\r'), FloatProgress(value=1.0, max=1.0)…"
      ]
     },
     "metadata": {},
     "output_type": "display_data"
    },
    {
     "data": {
      "text/html": [
       "Find user logs for this run at: <code>/usr/local/dev/cancer/svm/wandb/run-20210807_051303-vpfpo7gl/logs/debug.log</code>"
      ],
      "text/plain": [
       "<IPython.core.display.HTML object>"
      ]
     },
     "metadata": {},
     "output_type": "display_data"
    },
    {
     "data": {
      "text/html": [
       "Find internal logs for this run at: <code>/usr/local/dev/cancer/svm/wandb/run-20210807_051303-vpfpo7gl/logs/debug-internal.log</code>"
      ],
      "text/plain": [
       "<IPython.core.display.HTML object>"
      ]
     },
     "metadata": {},
     "output_type": "display_data"
    },
    {
     "data": {
      "text/html": [
       "<h3>Run summary:</h3><br/><style>\n",
       "    table.wandb td:nth-child(1) { padding: 0 10px; text-align: right }\n",
       "    </style><table class=\"wandb\">\n",
       "<tr><td>Epoch</td><td>29</td></tr><tr><td>F1_score</td><td>0.00053</td></tr><tr><td>Accuracy</td><td>0.60512</td></tr><tr><td>_runtime</td><td>8382</td></tr><tr><td>_timestamp</td><td>1628285565</td></tr><tr><td>_step</td><td>29</td></tr></table>"
      ],
      "text/plain": [
       "<IPython.core.display.HTML object>"
      ]
     },
     "metadata": {},
     "output_type": "display_data"
    },
    {
     "data": {
      "text/html": [
       "<h3>Run history:</h3><br/><style>\n",
       "    table.wandb td:nth-child(1) { padding: 0 10px; text-align: right }\n",
       "    </style><table class=\"wandb\">\n",
       "<tr><td>Epoch</td><td>▁▁▁▂▂▂▂▃▃▃▃▄▄▄▄▅▅▅▅▆▆▆▆▇▇▇▇███</td></tr><tr><td>F1_score</td><td>▂▁██▅█▁▁██▁▄██▁▁█▁█▁▁▄▃▁█▇███▁</td></tr><tr><td>Accuracy</td><td>██▁▁▆▁██▁▁█▇▁▁██▁█▂██▇▇█▁▃▁▁▁█</td></tr><tr><td>_runtime</td><td>▁▁▁▂▂▂▂▃▃▃▃▄▄▄▄▅▅▅▅▆▆▆▆▇▇▇▇███</td></tr><tr><td>_timestamp</td><td>▁▁▁▂▂▂▂▃▃▃▃▄▄▄▄▅▅▅▅▆▆▆▆▇▇▇▇███</td></tr><tr><td>_step</td><td>▁▁▁▂▂▂▂▃▃▃▃▄▄▄▄▅▅▅▅▆▆▆▆▇▇▇▇███</td></tr></table><br/>"
      ],
      "text/plain": [
       "<IPython.core.display.HTML object>"
      ]
     },
     "metadata": {},
     "output_type": "display_data"
    },
    {
     "data": {
      "text/html": [
       "Synced 5 W&B file(s), 0 media file(s), 0 artifact file(s) and 0 other file(s)"
      ],
      "text/plain": [
       "<IPython.core.display.HTML object>"
      ]
     },
     "metadata": {},
     "output_type": "display_data"
    },
    {
     "data": {
      "text/html": [
       "\n",
       "                    <br/>Synced <strong style=\"color:#cdcd00\">fancy-sweep-3</strong>: <a href=\"https://wandb.ai/team17/cancer/runs/vpfpo7gl\" target=\"_blank\">https://wandb.ai/team17/cancer/runs/vpfpo7gl</a><br/>\n",
       "                "
      ],
      "text/plain": [
       "<IPython.core.display.HTML object>"
      ]
     },
     "metadata": {},
     "output_type": "display_data"
    },
    {
     "name": "stderr",
     "output_type": "stream",
     "text": [
      "\u001b[34m\u001b[1mwandb\u001b[0m: Agent Starting Run: dxgcrexz with config:\n",
      "\u001b[34m\u001b[1mwandb\u001b[0m: \talpha: 0.01\n",
      "\u001b[34m\u001b[1mwandb\u001b[0m: \teta0: 0.1\n",
      "\u001b[34m\u001b[1mwandb\u001b[0m: wandb version 0.11.2 is available!  To upgrade, please run:\n",
      "\u001b[34m\u001b[1mwandb\u001b[0m:  $ pip install wandb --upgrade\n"
     ]
    },
    {
     "data": {
      "text/html": [
       "\n",
       "                Tracking run with wandb version 0.11.0<br/>\n",
       "                Syncing run <strong style=\"color:#cdcd00\">solar-sweep-4</strong> to <a href=\"https://wandb.ai\" target=\"_blank\">Weights & Biases</a> <a href=\"https://docs.wandb.com/integrations/jupyter.html\" target=\"_blank\">(Documentation)</a>.<br/>\n",
       "                Project page: <a href=\"https://wandb.ai/team17/cancer\" target=\"_blank\">https://wandb.ai/team17/cancer</a><br/>\n",
       "                Sweep page: <a href=\"https://wandb.ai/team17/cancer/sweeps/eyz1o9kf\" target=\"_blank\">https://wandb.ai/team17/cancer/sweeps/eyz1o9kf</a><br/>\n",
       "Run page: <a href=\"https://wandb.ai/team17/cancer/runs/dxgcrexz\" target=\"_blank\">https://wandb.ai/team17/cancer/runs/dxgcrexz</a><br/>\n",
       "                Run data is saved locally in <code>/usr/local/dev/cancer/svm/wandb/run-20210807_073250-dxgcrexz</code><br/><br/>\n",
       "            "
      ],
      "text/plain": [
       "<IPython.core.display.HTML object>"
      ]
     },
     "metadata": {},
     "output_type": "display_data"
    },
    {
     "data": {
      "text/html": [
       "<br/>Waiting for W&B process to finish, PID 129535<br/>Program ended successfully."
      ],
      "text/plain": [
       "<IPython.core.display.HTML object>"
      ]
     },
     "metadata": {},
     "output_type": "display_data"
    },
    {
     "data": {
      "application/vnd.jupyter.widget-view+json": {
       "model_id": "",
       "version_major": 2,
       "version_minor": 0
      },
      "text/plain": [
       "VBox(children=(Label(value=' 0.00MB of 0.00MB uploaded (0.00MB deduped)\\r'), FloatProgress(value=1.0, max=1.0)…"
      ]
     },
     "metadata": {},
     "output_type": "display_data"
    },
    {
     "data": {
      "text/html": [
       "Find user logs for this run at: <code>/usr/local/dev/cancer/svm/wandb/run-20210807_073250-dxgcrexz/logs/debug.log</code>"
      ],
      "text/plain": [
       "<IPython.core.display.HTML object>"
      ]
     },
     "metadata": {},
     "output_type": "display_data"
    },
    {
     "data": {
      "text/html": [
       "Find internal logs for this run at: <code>/usr/local/dev/cancer/svm/wandb/run-20210807_073250-dxgcrexz/logs/debug-internal.log</code>"
      ],
      "text/plain": [
       "<IPython.core.display.HTML object>"
      ]
     },
     "metadata": {},
     "output_type": "display_data"
    },
    {
     "data": {
      "text/html": [
       "<h3>Run summary:</h3><br/><style>\n",
       "    table.wandb td:nth-child(1) { padding: 0 10px; text-align: right }\n",
       "    </style><table class=\"wandb\">\n",
       "<tr><td>Epoch</td><td>29</td></tr><tr><td>F1_score</td><td>0.0</td></tr><tr><td>Accuracy</td><td>0.60517</td></tr><tr><td>_runtime</td><td>8373</td></tr><tr><td>_timestamp</td><td>1628293943</td></tr><tr><td>_step</td><td>29</td></tr></table>"
      ],
      "text/plain": [
       "<IPython.core.display.HTML object>"
      ]
     },
     "metadata": {},
     "output_type": "display_data"
    },
    {
     "data": {
      "text/html": [
       "<h3>Run history:</h3><br/><style>\n",
       "    table.wandb td:nth-child(1) { padding: 0 10px; text-align: right }\n",
       "    </style><table class=\"wandb\">\n",
       "<tr><td>Epoch</td><td>▁▁▁▂▂▂▂▃▃▃▃▄▄▄▄▅▅▅▅▆▆▆▆▇▇▇▇███</td></tr><tr><td>F1_score</td><td>█▁███▁▁▆█▇████▁████▁██▁▁▁█▁█▁▁</td></tr><tr><td>Accuracy</td><td>▁█▁▁▁██▅▂▃▁▁▁▁█▁▂▁▁█▁▁███▁█▂██</td></tr><tr><td>_runtime</td><td>▁▁▁▂▂▂▂▃▃▃▃▄▄▄▄▅▅▅▅▆▆▆▆▇▇▇▇███</td></tr><tr><td>_timestamp</td><td>▁▁▁▂▂▂▂▃▃▃▃▄▄▄▄▅▅▅▅▆▆▆▆▇▇▇▇███</td></tr><tr><td>_step</td><td>▁▁▁▂▂▂▂▃▃▃▃▄▄▄▄▅▅▅▅▆▆▆▆▇▇▇▇███</td></tr></table><br/>"
      ],
      "text/plain": [
       "<IPython.core.display.HTML object>"
      ]
     },
     "metadata": {},
     "output_type": "display_data"
    },
    {
     "data": {
      "text/html": [
       "Synced 5 W&B file(s), 0 media file(s), 0 artifact file(s) and 0 other file(s)"
      ],
      "text/plain": [
       "<IPython.core.display.HTML object>"
      ]
     },
     "metadata": {},
     "output_type": "display_data"
    },
    {
     "data": {
      "text/html": [
       "\n",
       "                    <br/>Synced <strong style=\"color:#cdcd00\">solar-sweep-4</strong>: <a href=\"https://wandb.ai/team17/cancer/runs/dxgcrexz\" target=\"_blank\">https://wandb.ai/team17/cancer/runs/dxgcrexz</a><br/>\n",
       "                "
      ],
      "text/plain": [
       "<IPython.core.display.HTML object>"
      ]
     },
     "metadata": {},
     "output_type": "display_data"
    },
    {
     "name": "stderr",
     "output_type": "stream",
     "text": [
      "\u001b[34m\u001b[1mwandb\u001b[0m: Agent Starting Run: zuiou8h7 with config:\n",
      "\u001b[34m\u001b[1mwandb\u001b[0m: \talpha: 0.1\n",
      "\u001b[34m\u001b[1mwandb\u001b[0m: \teta0: 0.0001\n",
      "\u001b[34m\u001b[1mwandb\u001b[0m: wandb version 0.11.2 is available!  To upgrade, please run:\n",
      "\u001b[34m\u001b[1mwandb\u001b[0m:  $ pip install wandb --upgrade\n"
     ]
    },
    {
     "data": {
      "text/html": [
       "\n",
       "                Tracking run with wandb version 0.11.0<br/>\n",
       "                Syncing run <strong style=\"color:#cdcd00\">whole-sweep-5</strong> to <a href=\"https://wandb.ai\" target=\"_blank\">Weights & Biases</a> <a href=\"https://docs.wandb.com/integrations/jupyter.html\" target=\"_blank\">(Documentation)</a>.<br/>\n",
       "                Project page: <a href=\"https://wandb.ai/team17/cancer\" target=\"_blank\">https://wandb.ai/team17/cancer</a><br/>\n",
       "                Sweep page: <a href=\"https://wandb.ai/team17/cancer/sweeps/eyz1o9kf\" target=\"_blank\">https://wandb.ai/team17/cancer/sweeps/eyz1o9kf</a><br/>\n",
       "Run page: <a href=\"https://wandb.ai/team17/cancer/runs/zuiou8h7\" target=\"_blank\">https://wandb.ai/team17/cancer/runs/zuiou8h7</a><br/>\n",
       "                Run data is saved locally in <code>/usr/local/dev/cancer/svm/wandb/run-20210807_095228-zuiou8h7</code><br/><br/>\n",
       "            "
      ],
      "text/plain": [
       "<IPython.core.display.HTML object>"
      ]
     },
     "metadata": {},
     "output_type": "display_data"
    },
    {
     "data": {
      "text/html": [
       "<br/>Waiting for W&B process to finish, PID 134021<br/>Program ended successfully."
      ],
      "text/plain": [
       "<IPython.core.display.HTML object>"
      ]
     },
     "metadata": {},
     "output_type": "display_data"
    },
    {
     "data": {
      "application/vnd.jupyter.widget-view+json": {
       "model_id": "",
       "version_major": 2,
       "version_minor": 0
      },
      "text/plain": [
       "VBox(children=(Label(value=' 0.00MB of 0.00MB uploaded (0.00MB deduped)\\r'), FloatProgress(value=1.0, max=1.0)…"
      ]
     },
     "metadata": {},
     "output_type": "display_data"
    },
    {
     "data": {
      "text/html": [
       "Find user logs for this run at: <code>/usr/local/dev/cancer/svm/wandb/run-20210807_095228-zuiou8h7/logs/debug.log</code>"
      ],
      "text/plain": [
       "<IPython.core.display.HTML object>"
      ]
     },
     "metadata": {},
     "output_type": "display_data"
    },
    {
     "data": {
      "text/html": [
       "Find internal logs for this run at: <code>/usr/local/dev/cancer/svm/wandb/run-20210807_095228-zuiou8h7/logs/debug-internal.log</code>"
      ],
      "text/plain": [
       "<IPython.core.display.HTML object>"
      ]
     },
     "metadata": {},
     "output_type": "display_data"
    },
    {
     "data": {
      "text/html": [
       "<h3>Run summary:</h3><br/><style>\n",
       "    table.wandb td:nth-child(1) { padding: 0 10px; text-align: right }\n",
       "    </style><table class=\"wandb\">\n",
       "<tr><td>Epoch</td><td>29</td></tr><tr><td>F1_score</td><td>0.00132</td></tr><tr><td>Accuracy</td><td>0.60512</td></tr><tr><td>_runtime</td><td>8419</td></tr><tr><td>_timestamp</td><td>1628302367</td></tr><tr><td>_step</td><td>29</td></tr></table>"
      ],
      "text/plain": [
       "<IPython.core.display.HTML object>"
      ]
     },
     "metadata": {},
     "output_type": "display_data"
    },
    {
     "data": {
      "text/html": [
       "<h3>Run history:</h3><br/><style>\n",
       "    table.wandb td:nth-child(1) { padding: 0 10px; text-align: right }\n",
       "    </style><table class=\"wandb\">\n",
       "<tr><td>Epoch</td><td>▁▁▁▂▂▂▂▃▃▃▃▄▄▄▄▅▅▅▅▆▆▆▆▇▇▇▇███</td></tr><tr><td>F1_score</td><td>▁▁▁▄█▁▁█▁█▁██▁██▁█▃▁█▁▁█▁▁▄▁▁▁</td></tr><tr><td>Accuracy</td><td>███▇▁██▁█▁█▁▁█▁▁█▁▇█▂██▁██▇███</td></tr><tr><td>_runtime</td><td>▁▁▁▂▂▂▂▃▃▃▃▄▄▄▄▅▅▅▅▆▆▆▆▇▇▇▇███</td></tr><tr><td>_timestamp</td><td>▁▁▁▂▂▂▂▃▃▃▃▄▄▄▄▅▅▅▅▆▆▆▆▇▇▇▇███</td></tr><tr><td>_step</td><td>▁▁▁▂▂▂▂▃▃▃▃▄▄▄▄▅▅▅▅▆▆▆▆▇▇▇▇███</td></tr></table><br/>"
      ],
      "text/plain": [
       "<IPython.core.display.HTML object>"
      ]
     },
     "metadata": {},
     "output_type": "display_data"
    },
    {
     "data": {
      "text/html": [
       "Synced 5 W&B file(s), 0 media file(s), 0 artifact file(s) and 0 other file(s)"
      ],
      "text/plain": [
       "<IPython.core.display.HTML object>"
      ]
     },
     "metadata": {},
     "output_type": "display_data"
    },
    {
     "data": {
      "text/html": [
       "\n",
       "                    <br/>Synced <strong style=\"color:#cdcd00\">whole-sweep-5</strong>: <a href=\"https://wandb.ai/team17/cancer/runs/zuiou8h7\" target=\"_blank\">https://wandb.ai/team17/cancer/runs/zuiou8h7</a><br/>\n",
       "                "
      ],
      "text/plain": [
       "<IPython.core.display.HTML object>"
      ]
     },
     "metadata": {},
     "output_type": "display_data"
    },
    {
     "name": "stderr",
     "output_type": "stream",
     "text": [
      "\u001b[34m\u001b[1mwandb\u001b[0m: Agent Starting Run: qa0uyz0j with config:\n",
      "\u001b[34m\u001b[1mwandb\u001b[0m: \talpha: 0.1\n",
      "\u001b[34m\u001b[1mwandb\u001b[0m: \teta0: 0.001\n",
      "\u001b[34m\u001b[1mwandb\u001b[0m: wandb version 0.11.2 is available!  To upgrade, please run:\n",
      "\u001b[34m\u001b[1mwandb\u001b[0m:  $ pip install wandb --upgrade\n"
     ]
    },
    {
     "data": {
      "text/html": [
       "\n",
       "                Tracking run with wandb version 0.11.0<br/>\n",
       "                Syncing run <strong style=\"color:#cdcd00\">mild-sweep-6</strong> to <a href=\"https://wandb.ai\" target=\"_blank\">Weights & Biases</a> <a href=\"https://docs.wandb.com/integrations/jupyter.html\" target=\"_blank\">(Documentation)</a>.<br/>\n",
       "                Project page: <a href=\"https://wandb.ai/team17/cancer\" target=\"_blank\">https://wandb.ai/team17/cancer</a><br/>\n",
       "                Sweep page: <a href=\"https://wandb.ai/team17/cancer/sweeps/eyz1o9kf\" target=\"_blank\">https://wandb.ai/team17/cancer/sweeps/eyz1o9kf</a><br/>\n",
       "Run page: <a href=\"https://wandb.ai/team17/cancer/runs/qa0uyz0j\" target=\"_blank\">https://wandb.ai/team17/cancer/runs/qa0uyz0j</a><br/>\n",
       "                Run data is saved locally in <code>/usr/local/dev/cancer/svm/wandb/run-20210807_121253-qa0uyz0j</code><br/><br/>\n",
       "            "
      ],
      "text/plain": [
       "<IPython.core.display.HTML object>"
      ]
     },
     "metadata": {},
     "output_type": "display_data"
    },
    {
     "data": {
      "text/html": [
       "<br/>Waiting for W&B process to finish, PID 138309<br/>Program ended successfully."
      ],
      "text/plain": [
       "<IPython.core.display.HTML object>"
      ]
     },
     "metadata": {},
     "output_type": "display_data"
    },
    {
     "data": {
      "application/vnd.jupyter.widget-view+json": {
       "model_id": "",
       "version_major": 2,
       "version_minor": 0
      },
      "text/plain": [
       "VBox(children=(Label(value=' 0.00MB of 0.00MB uploaded (0.00MB deduped)\\r'), FloatProgress(value=1.0, max=1.0)…"
      ]
     },
     "metadata": {},
     "output_type": "display_data"
    },
    {
     "data": {
      "text/html": [
       "Find user logs for this run at: <code>/usr/local/dev/cancer/svm/wandb/run-20210807_121253-qa0uyz0j/logs/debug.log</code>"
      ],
      "text/plain": [
       "<IPython.core.display.HTML object>"
      ]
     },
     "metadata": {},
     "output_type": "display_data"
    },
    {
     "data": {
      "text/html": [
       "Find internal logs for this run at: <code>/usr/local/dev/cancer/svm/wandb/run-20210807_121253-qa0uyz0j/logs/debug-internal.log</code>"
      ],
      "text/plain": [
       "<IPython.core.display.HTML object>"
      ]
     },
     "metadata": {},
     "output_type": "display_data"
    },
    {
     "data": {
      "text/html": [
       "<h3>Run summary:</h3><br/><style>\n",
       "    table.wandb td:nth-child(1) { padding: 0 10px; text-align: right }\n",
       "    </style><table class=\"wandb\">\n",
       "<tr><td>Epoch</td><td>29</td></tr><tr><td>F1_score</td><td>0.00105</td></tr><tr><td>Accuracy</td><td>0.60522</td></tr><tr><td>_runtime</td><td>8359</td></tr><tr><td>_timestamp</td><td>1628310732</td></tr><tr><td>_step</td><td>29</td></tr></table>"
      ],
      "text/plain": [
       "<IPython.core.display.HTML object>"
      ]
     },
     "metadata": {},
     "output_type": "display_data"
    },
    {
     "data": {
      "text/html": [
       "<h3>Run history:</h3><br/><style>\n",
       "    table.wandb td:nth-child(1) { padding: 0 10px; text-align: right }\n",
       "    </style><table class=\"wandb\">\n",
       "<tr><td>Epoch</td><td>▁▁▁▂▂▂▂▃▃▃▃▄▄▄▄▅▅▅▅▆▆▆▆▇▇▇▇███</td></tr><tr><td>F1_score</td><td>█████████▁▁██▁█▁▁▁▁█▁██▇▂█▁▁▁▁</td></tr><tr><td>Accuracy</td><td>▁▁▁▁▁▁▁▁▁██▁▁█▁████▁█▁▁▅█▁████</td></tr><tr><td>_runtime</td><td>▁▁▁▂▂▂▂▃▃▃▃▄▄▄▄▅▅▅▅▆▆▆▆▇▇▇▇███</td></tr><tr><td>_timestamp</td><td>▁▁▁▂▂▂▂▃▃▃▃▄▄▄▄▅▅▅▅▆▆▆▆▇▇▇▇███</td></tr><tr><td>_step</td><td>▁▁▁▂▂▂▂▃▃▃▃▄▄▄▄▅▅▅▅▆▆▆▆▇▇▇▇███</td></tr></table><br/>"
      ],
      "text/plain": [
       "<IPython.core.display.HTML object>"
      ]
     },
     "metadata": {},
     "output_type": "display_data"
    },
    {
     "data": {
      "text/html": [
       "Synced 5 W&B file(s), 0 media file(s), 0 artifact file(s) and 0 other file(s)"
      ],
      "text/plain": [
       "<IPython.core.display.HTML object>"
      ]
     },
     "metadata": {},
     "output_type": "display_data"
    },
    {
     "data": {
      "text/html": [
       "\n",
       "                    <br/>Synced <strong style=\"color:#cdcd00\">mild-sweep-6</strong>: <a href=\"https://wandb.ai/team17/cancer/runs/qa0uyz0j\" target=\"_blank\">https://wandb.ai/team17/cancer/runs/qa0uyz0j</a><br/>\n",
       "                "
      ],
      "text/plain": [
       "<IPython.core.display.HTML object>"
      ]
     },
     "metadata": {},
     "output_type": "display_data"
    },
    {
     "name": "stderr",
     "output_type": "stream",
     "text": [
      "\u001b[34m\u001b[1mwandb\u001b[0m: Agent Starting Run: 4goaqj0k with config:\n",
      "\u001b[34m\u001b[1mwandb\u001b[0m: \talpha: 0.1\n",
      "\u001b[34m\u001b[1mwandb\u001b[0m: \teta0: 0.01\n",
      "\u001b[34m\u001b[1mwandb\u001b[0m: wandb version 0.11.2 is available!  To upgrade, please run:\n",
      "\u001b[34m\u001b[1mwandb\u001b[0m:  $ pip install wandb --upgrade\n"
     ]
    },
    {
     "data": {
      "text/html": [
       "\n",
       "                Tracking run with wandb version 0.11.0<br/>\n",
       "                Syncing run <strong style=\"color:#cdcd00\">lyric-sweep-7</strong> to <a href=\"https://wandb.ai\" target=\"_blank\">Weights & Biases</a> <a href=\"https://docs.wandb.com/integrations/jupyter.html\" target=\"_blank\">(Documentation)</a>.<br/>\n",
       "                Project page: <a href=\"https://wandb.ai/team17/cancer\" target=\"_blank\">https://wandb.ai/team17/cancer</a><br/>\n",
       "                Sweep page: <a href=\"https://wandb.ai/team17/cancer/sweeps/eyz1o9kf\" target=\"_blank\">https://wandb.ai/team17/cancer/sweeps/eyz1o9kf</a><br/>\n",
       "Run page: <a href=\"https://wandb.ai/team17/cancer/runs/4goaqj0k\" target=\"_blank\">https://wandb.ai/team17/cancer/runs/4goaqj0k</a><br/>\n",
       "                Run data is saved locally in <code>/usr/local/dev/cancer/svm/wandb/run-20210807_143223-4goaqj0k</code><br/><br/>\n",
       "            "
      ],
      "text/plain": [
       "<IPython.core.display.HTML object>"
      ]
     },
     "metadata": {},
     "output_type": "display_data"
    },
    {
     "data": {
      "text/html": [
       "<br/>Waiting for W&B process to finish, PID 142762<br/>Program ended successfully."
      ],
      "text/plain": [
       "<IPython.core.display.HTML object>"
      ]
     },
     "metadata": {},
     "output_type": "display_data"
    },
    {
     "data": {
      "application/vnd.jupyter.widget-view+json": {
       "model_id": "",
       "version_major": 2,
       "version_minor": 0
      },
      "text/plain": [
       "VBox(children=(Label(value=' 0.00MB of 0.00MB uploaded (0.00MB deduped)\\r'), FloatProgress(value=1.0, max=1.0)…"
      ]
     },
     "metadata": {},
     "output_type": "display_data"
    },
    {
     "data": {
      "text/html": [
       "Find user logs for this run at: <code>/usr/local/dev/cancer/svm/wandb/run-20210807_143223-4goaqj0k/logs/debug.log</code>"
      ],
      "text/plain": [
       "<IPython.core.display.HTML object>"
      ]
     },
     "metadata": {},
     "output_type": "display_data"
    },
    {
     "data": {
      "text/html": [
       "Find internal logs for this run at: <code>/usr/local/dev/cancer/svm/wandb/run-20210807_143223-4goaqj0k/logs/debug-internal.log</code>"
      ],
      "text/plain": [
       "<IPython.core.display.HTML object>"
      ]
     },
     "metadata": {},
     "output_type": "display_data"
    },
    {
     "data": {
      "text/html": [
       "<h3>Run summary:</h3><br/><style>\n",
       "    table.wandb td:nth-child(1) { padding: 0 10px; text-align: right }\n",
       "    </style><table class=\"wandb\">\n",
       "<tr><td>Epoch</td><td>29</td></tr><tr><td>F1_score</td><td>0.0</td></tr><tr><td>Accuracy</td><td>0.60517</td></tr><tr><td>_runtime</td><td>8552</td></tr><tr><td>_timestamp</td><td>1628319295</td></tr><tr><td>_step</td><td>29</td></tr></table>"
      ],
      "text/plain": [
       "<IPython.core.display.HTML object>"
      ]
     },
     "metadata": {},
     "output_type": "display_data"
    },
    {
     "data": {
      "text/html": [
       "<h3>Run history:</h3><br/><style>\n",
       "    table.wandb td:nth-child(1) { padding: 0 10px; text-align: right }\n",
       "    </style><table class=\"wandb\">\n",
       "<tr><td>Epoch</td><td>▁▁▁▂▂▂▂▃▃▃▃▄▄▄▄▅▅▅▅▆▆▆▆▇▇▇▇███</td></tr><tr><td>F1_score</td><td>█▁▁▁███▁██▁█▁▁██▁▁▁▁▁██▁███▁▁▁</td></tr><tr><td>Accuracy</td><td>▁███▁▁▁█▁▁█▁██▁▁█████▁▁█▁▁▁███</td></tr><tr><td>_runtime</td><td>▁▁▁▂▂▂▂▃▃▃▃▄▄▄▄▅▅▅▅▅▆▆▆▆▇▇▇▇██</td></tr><tr><td>_timestamp</td><td>▁▁▁▂▂▂▂▃▃▃▃▄▄▄▄▅▅▅▅▅▆▆▆▆▇▇▇▇██</td></tr><tr><td>_step</td><td>▁▁▁▂▂▂▂▃▃▃▃▄▄▄▄▅▅▅▅▆▆▆▆▇▇▇▇███</td></tr></table><br/>"
      ],
      "text/plain": [
       "<IPython.core.display.HTML object>"
      ]
     },
     "metadata": {},
     "output_type": "display_data"
    },
    {
     "data": {
      "text/html": [
       "Synced 5 W&B file(s), 0 media file(s), 0 artifact file(s) and 0 other file(s)"
      ],
      "text/plain": [
       "<IPython.core.display.HTML object>"
      ]
     },
     "metadata": {},
     "output_type": "display_data"
    },
    {
     "data": {
      "text/html": [
       "\n",
       "                    <br/>Synced <strong style=\"color:#cdcd00\">lyric-sweep-7</strong>: <a href=\"https://wandb.ai/team17/cancer/runs/4goaqj0k\" target=\"_blank\">https://wandb.ai/team17/cancer/runs/4goaqj0k</a><br/>\n",
       "                "
      ],
      "text/plain": [
       "<IPython.core.display.HTML object>"
      ]
     },
     "metadata": {},
     "output_type": "display_data"
    },
    {
     "name": "stderr",
     "output_type": "stream",
     "text": [
      "\u001b[34m\u001b[1mwandb\u001b[0m: Agent Starting Run: mbdc6pp7 with config:\n",
      "\u001b[34m\u001b[1mwandb\u001b[0m: \talpha: 0.1\n",
      "\u001b[34m\u001b[1mwandb\u001b[0m: \teta0: 0.1\n",
      "\u001b[34m\u001b[1mwandb\u001b[0m: wandb version 0.11.2 is available!  To upgrade, please run:\n",
      "\u001b[34m\u001b[1mwandb\u001b[0m:  $ pip install wandb --upgrade\n"
     ]
    },
    {
     "data": {
      "text/html": [
       "\n",
       "                Tracking run with wandb version 0.11.0<br/>\n",
       "                Syncing run <strong style=\"color:#cdcd00\">winter-sweep-8</strong> to <a href=\"https://wandb.ai\" target=\"_blank\">Weights & Biases</a> <a href=\"https://docs.wandb.com/integrations/jupyter.html\" target=\"_blank\">(Documentation)</a>.<br/>\n",
       "                Project page: <a href=\"https://wandb.ai/team17/cancer\" target=\"_blank\">https://wandb.ai/team17/cancer</a><br/>\n",
       "                Sweep page: <a href=\"https://wandb.ai/team17/cancer/sweeps/eyz1o9kf\" target=\"_blank\">https://wandb.ai/team17/cancer/sweeps/eyz1o9kf</a><br/>\n",
       "Run page: <a href=\"https://wandb.ai/team17/cancer/runs/mbdc6pp7\" target=\"_blank\">https://wandb.ai/team17/cancer/runs/mbdc6pp7</a><br/>\n",
       "                Run data is saved locally in <code>/usr/local/dev/cancer/svm/wandb/run-20210807_165500-mbdc6pp7</code><br/><br/>\n",
       "            "
      ],
      "text/plain": [
       "<IPython.core.display.HTML object>"
      ]
     },
     "metadata": {},
     "output_type": "display_data"
    },
    {
     "data": {
      "text/html": [
       "<br/>Waiting for W&B process to finish, PID 148141<br/>Program ended successfully."
      ],
      "text/plain": [
       "<IPython.core.display.HTML object>"
      ]
     },
     "metadata": {},
     "output_type": "display_data"
    },
    {
     "data": {
      "application/vnd.jupyter.widget-view+json": {
       "model_id": "",
       "version_major": 2,
       "version_minor": 0
      },
      "text/plain": [
       "VBox(children=(Label(value=' 0.00MB of 0.00MB uploaded (0.00MB deduped)\\r'), FloatProgress(value=1.0, max=1.0)…"
      ]
     },
     "metadata": {},
     "output_type": "display_data"
    },
    {
     "data": {
      "text/html": [
       "Find user logs for this run at: <code>/usr/local/dev/cancer/svm/wandb/run-20210807_165500-mbdc6pp7/logs/debug.log</code>"
      ],
      "text/plain": [
       "<IPython.core.display.HTML object>"
      ]
     },
     "metadata": {},
     "output_type": "display_data"
    },
    {
     "data": {
      "text/html": [
       "Find internal logs for this run at: <code>/usr/local/dev/cancer/svm/wandb/run-20210807_165500-mbdc6pp7/logs/debug-internal.log</code>"
      ],
      "text/plain": [
       "<IPython.core.display.HTML object>"
      ]
     },
     "metadata": {},
     "output_type": "display_data"
    },
    {
     "data": {
      "text/html": [
       "<h3>Run summary:</h3><br/><style>\n",
       "    table.wandb td:nth-child(1) { padding: 0 10px; text-align: right }\n",
       "    </style><table class=\"wandb\">\n",
       "<tr><td>Epoch</td><td>29</td></tr><tr><td>F1_score</td><td>0.56613</td></tr><tr><td>Accuracy</td><td>0.39483</td></tr><tr><td>_runtime</td><td>8660</td></tr><tr><td>_timestamp</td><td>1628327960</td></tr><tr><td>_step</td><td>29</td></tr></table>"
      ],
      "text/plain": [
       "<IPython.core.display.HTML object>"
      ]
     },
     "metadata": {},
     "output_type": "display_data"
    },
    {
     "data": {
      "text/html": [
       "<h3>Run history:</h3><br/><style>\n",
       "    table.wandb td:nth-child(1) { padding: 0 10px; text-align: right }\n",
       "    </style><table class=\"wandb\">\n",
       "<tr><td>Epoch</td><td>▁▁▁▂▂▂▂▃▃▃▃▄▄▄▄▅▅▅▅▆▆▆▆▇▇▇▇███</td></tr><tr><td>F1_score</td><td>▁▁██▁▁▁████▁█▁███▁██▁▁██▁██▁██</td></tr><tr><td>Accuracy</td><td>██▁▁███▁▁▁▁█▁█▁▂▁█▁▁██▁▁█▁▁█▁▁</td></tr><tr><td>_runtime</td><td>▁▁▁▂▂▂▂▃▃▃▃▄▄▄▄▅▅▅▅▆▆▆▆▇▇▇▇███</td></tr><tr><td>_timestamp</td><td>▁▁▁▂▂▂▂▃▃▃▃▄▄▄▄▅▅▅▅▆▆▆▆▇▇▇▇███</td></tr><tr><td>_step</td><td>▁▁▁▂▂▂▂▃▃▃▃▄▄▄▄▅▅▅▅▆▆▆▆▇▇▇▇███</td></tr></table><br/>"
      ],
      "text/plain": [
       "<IPython.core.display.HTML object>"
      ]
     },
     "metadata": {},
     "output_type": "display_data"
    },
    {
     "data": {
      "text/html": [
       "Synced 5 W&B file(s), 0 media file(s), 0 artifact file(s) and 0 other file(s)"
      ],
      "text/plain": [
       "<IPython.core.display.HTML object>"
      ]
     },
     "metadata": {},
     "output_type": "display_data"
    },
    {
     "data": {
      "text/html": [
       "\n",
       "                    <br/>Synced <strong style=\"color:#cdcd00\">winter-sweep-8</strong>: <a href=\"https://wandb.ai/team17/cancer/runs/mbdc6pp7\" target=\"_blank\">https://wandb.ai/team17/cancer/runs/mbdc6pp7</a><br/>\n",
       "                "
      ],
      "text/plain": [
       "<IPython.core.display.HTML object>"
      ]
     },
     "metadata": {},
     "output_type": "display_data"
    },
    {
     "name": "stderr",
     "output_type": "stream",
     "text": [
      "\u001b[34m\u001b[1mwandb\u001b[0m: Sweep Agent: Waiting for job.\n",
      "\u001b[34m\u001b[1mwandb\u001b[0m: Sweep Agent: Exiting.\n"
     ]
    }
   ],
   "source": [
    "wandb.agent(sweep_id, train)"
   ]
  }
 ],
 "metadata": {
  "kernelspec": {
   "display_name": "cancer",
   "language": "python",
   "name": "cancer"
  },
  "language_info": {
   "codemirror_mode": {
    "name": "ipython",
    "version": 3
   },
   "file_extension": ".py",
   "mimetype": "text/x-python",
   "name": "python",
   "nbconvert_exporter": "python",
   "pygments_lexer": "ipython3",
   "version": "3.9.5"
  }
 },
 "nbformat": 4,
 "nbformat_minor": 5
}
