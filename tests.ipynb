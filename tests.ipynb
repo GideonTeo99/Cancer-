{
 "cells": [
  {
   "cell_type": "code",
   "execution_count": 1,
   "id": "c4c9712d",
   "metadata": {},
   "outputs": [],
   "source": [
    "from pytorch_grad_cam import GradCAM, ScoreCAM, GradCAMPlusPlus, AblationCAM, XGradCAM, EigenCAM\n",
    "from pytorch_grad_cam.utils.image import show_cam_on_image, deprocess_image, preprocess_image\n",
    "import torch\n",
    "from torchvision import datasets,transforms\n",
    "from torch import optim,nn\n",
    "from torchvision.models import resnet18, densenet161\n",
    "import os\n",
    "import cv2\n",
    "import numpy as np\n",
    "import PIL\n",
    "import matplotlib.pyplot as plt\n",
    "# import os\n",
    "\n",
    "os.environ['KMP_DUPLICATE_LIB_OK']='True'"
   ]
  },
  {
   "cell_type": "code",
   "execution_count": 2,
   "id": "55c198c0",
   "metadata": {},
   "outputs": [],
   "source": [
    "root = os.getcwd()\n",
    "data_dir = root+ \"/data\" # change PATH here\n",
    "# data_dir = \"/Users/zhiiikaiii/Desktop/test_data/train\""
   ]
  },
  {
   "cell_type": "code",
   "execution_count": 4,
   "id": "dc6810a6",
   "metadata": {},
   "outputs": [
    {
     "ename": "AssertionError",
     "evalue": "only use resnet with logsoftmax with NLLLoss criterion",
     "output_type": "error",
     "traceback": [
      "\u001b[1;31m---------------------------------------------------------------------------\u001b[0m",
      "\u001b[1;31mAssertionError\u001b[0m                            Traceback (most recent call last)",
      "\u001b[1;32m~\\AppData\\Local\\Temp/ipykernel_12100/1615492893.py\u001b[0m in \u001b[0;36m<module>\u001b[1;34m\u001b[0m\n\u001b[0;32m      2\u001b[0m \u001b[0mcriterion\u001b[0m \u001b[1;33m=\u001b[0m \u001b[1;34m'CrossEntropyLoss'\u001b[0m\u001b[1;33m\u001b[0m\u001b[1;33m\u001b[0m\u001b[0m\n\u001b[0;32m      3\u001b[0m \u001b[1;32mif\u001b[0m \u001b[1;33m(\u001b[0m\u001b[0mmodel\u001b[0m \u001b[1;33m==\u001b[0m \u001b[1;34m'resnet50_lsm'\u001b[0m\u001b[1;33m)\u001b[0m\u001b[1;33m:\u001b[0m\u001b[1;33m\u001b[0m\u001b[1;33m\u001b[0m\u001b[0m\n\u001b[1;32m----> 4\u001b[1;33m     \u001b[1;32massert\u001b[0m \u001b[1;33m(\u001b[0m\u001b[0mcriterion\u001b[0m \u001b[1;33m==\u001b[0m \u001b[1;34m'NLLLoss'\u001b[0m\u001b[1;33m)\u001b[0m\u001b[1;33m,\u001b[0m \u001b[1;34m\"only use resnet with logsoftmax with NLLLoss criterion\"\u001b[0m\u001b[1;33m\u001b[0m\u001b[1;33m\u001b[0m\u001b[0m\n\u001b[0m",
      "\u001b[1;31mAssertionError\u001b[0m: only use resnet with logsoftmax with NLLLoss criterion"
     ]
    }
   ],
   "source": [
    "model = 'resnet50_lsm'\n",
    "criterion = 'CrossEntropyLoss'\n",
    "if (model == 'resnet50_lsm'):\n",
    "    assert (criterion == 'NLLLoss'), \"only use resnet with logsoftmax with NLLLoss criterion\""
   ]
  },
  {
   "cell_type": "code",
   "execution_count": 7,
   "id": "708a357f",
   "metadata": {},
   "outputs": [
    {
     "ename": "AssertionError",
     "evalue": "Batch size cannot be < 1",
     "output_type": "error",
     "traceback": [
      "\u001b[0;31m---------------------------------------------------------------------------\u001b[0m",
      "\u001b[0;31mAssertionError\u001b[0m                            Traceback (most recent call last)",
      "\u001b[0;32m/var/folders/gd/zf673phs1y7bfj7ttc5md6w80000gn/T/ipykernel_26041/2391040305.py\u001b[0m in \u001b[0;36m<module>\u001b[0;34m\u001b[0m\n\u001b[1;32m      1\u001b[0m \u001b[0mbs\u001b[0m \u001b[0;34m=\u001b[0m \u001b[0;34m-\u001b[0m\u001b[0;36m1\u001b[0m\u001b[0;34m\u001b[0m\u001b[0;34m\u001b[0m\u001b[0m\n\u001b[0;32m----> 2\u001b[0;31m \u001b[0;32massert\u001b[0m \u001b[0;34m(\u001b[0m\u001b[0mbs\u001b[0m \u001b[0;34m>\u001b[0m \u001b[0;36m0\u001b[0m\u001b[0;34m)\u001b[0m\u001b[0;34m,\u001b[0m \u001b[0;34m\"Batch size cannot be < 1\"\u001b[0m\u001b[0;34m\u001b[0m\u001b[0;34m\u001b[0m\u001b[0m\n\u001b[0m",
      "\u001b[0;31mAssertionError\u001b[0m: Batch size cannot be < 1"
     ]
    }
   ],
   "source": [
    "bs = -1\n",
    "assert (bs > 0), \"Batch size cannot be < 1\""
   ]
  },
  {
   "cell_type": "markdown",
   "id": "403d1a93",
   "metadata": {},
   "source": []
  },
  {
   "cell_type": "code",
   "execution_count": 21,
   "id": "b123ddd7",
   "metadata": {},
   "outputs": [
    {
     "ename": "AssertionError",
     "evalue": "Learning rate must be 0 >= do < 1",
     "output_type": "error",
     "traceback": [
      "\u001b[0;31m---------------------------------------------------------------------------\u001b[0m",
      "\u001b[0;31mAssertionError\u001b[0m                            Traceback (most recent call last)",
      "\u001b[0;32m/var/folders/gd/zf673phs1y7bfj7ttc5md6w80000gn/T/ipykernel_26041/1740837129.py\u001b[0m in \u001b[0;36m<module>\u001b[0;34m\u001b[0m\n\u001b[1;32m      1\u001b[0m \u001b[0mlr\u001b[0m \u001b[0;34m=\u001b[0m \u001b[0;36m1\u001b[0m\u001b[0;34m\u001b[0m\u001b[0;34m\u001b[0m\u001b[0m\n\u001b[0;32m----> 2\u001b[0;31m \u001b[0;32massert\u001b[0m \u001b[0;34m(\u001b[0m\u001b[0mlr\u001b[0m \u001b[0;34m>=\u001b[0m \u001b[0;36m0\u001b[0m \u001b[0;32mand\u001b[0m \u001b[0mlr\u001b[0m \u001b[0;34m<\u001b[0m \u001b[0;36m1\u001b[0m\u001b[0;34m)\u001b[0m\u001b[0;34m,\u001b[0m \u001b[0;34m\"Learning rate must be 0 >= do < 1\"\u001b[0m\u001b[0;34m\u001b[0m\u001b[0;34m\u001b[0m\u001b[0m\n\u001b[0m",
      "\u001b[0;31mAssertionError\u001b[0m: Learning rate must be 0 >= do < 1"
     ]
    }
   ],
   "source": [
    "lr = 1\n",
    "assert (lr >= 0 and lr < 1), \"Learning rate must be 0 >= do < 1\""
   ]
  },
  {
   "cell_type": "code",
   "execution_count": 3,
   "id": "c6d320e4",
   "metadata": {},
   "outputs": [
    {
     "ename": "AssertionError",
     "evalue": "Learning rate must be 0 >= do < 1",
     "output_type": "error",
     "traceback": [
      "\u001b[0;31m---------------------------------------------------------------------------\u001b[0m",
      "\u001b[0;31mAssertionError\u001b[0m                            Traceback (most recent call last)",
      "\u001b[0;32m/var/folders/gd/zf673phs1y7bfj7ttc5md6w80000gn/T/ipykernel_26041/2825982293.py\u001b[0m in \u001b[0;36m<module>\u001b[0;34m\u001b[0m\n\u001b[1;32m      1\u001b[0m \u001b[0mdo\u001b[0m \u001b[0;34m=\u001b[0m \u001b[0;36m1\u001b[0m\u001b[0;34m\u001b[0m\u001b[0;34m\u001b[0m\u001b[0m\n\u001b[0;32m----> 2\u001b[0;31m \u001b[0;32massert\u001b[0m \u001b[0;34m(\u001b[0m\u001b[0mdo\u001b[0m \u001b[0;34m>\u001b[0m \u001b[0;36m1\u001b[0m \u001b[0;32mand\u001b[0m \u001b[0mdo\u001b[0m \u001b[0;34m<=\u001b[0m \u001b[0;36m0\u001b[0m \u001b[0;34m)\u001b[0m\u001b[0;34m,\u001b[0m \u001b[0;34m\"Learning rate must be 0 >= do < 1\"\u001b[0m\u001b[0;34m\u001b[0m\u001b[0;34m\u001b[0m\u001b[0m\n\u001b[0m",
      "\u001b[0;31mAssertionError\u001b[0m: Learning rate must be 0 >= do < 1"
     ]
    }
   ],
   "source": [
    "do = 2\n",
    "assert (do >= 0 and do <= 1 ), \"Learning rate must be 0 >= do < 1\""
   ]
  },
  {
   "cell_type": "code",
   "execution_count": 22,
   "id": "8589d017",
   "metadata": {},
   "outputs": [
    {
     "ename": "AssertionError",
     "evalue": "Epoch must be a positive integer",
     "output_type": "error",
     "traceback": [
      "\u001b[0;31m---------------------------------------------------------------------------\u001b[0m",
      "\u001b[0;31mAssertionError\u001b[0m                            Traceback (most recent call last)",
      "\u001b[0;32m/var/folders/gd/zf673phs1y7bfj7ttc5md6w80000gn/T/ipykernel_26041/2915114186.py\u001b[0m in \u001b[0;36m<module>\u001b[0;34m\u001b[0m\n\u001b[1;32m      1\u001b[0m \u001b[0mepoch\u001b[0m \u001b[0;34m=\u001b[0m \u001b[0;34m-\u001b[0m\u001b[0;36m1\u001b[0m\u001b[0;34m\u001b[0m\u001b[0;34m\u001b[0m\u001b[0m\n\u001b[0;32m----> 2\u001b[0;31m \u001b[0;32massert\u001b[0m \u001b[0;34m(\u001b[0m\u001b[0mepoch\u001b[0m \u001b[0;34m>\u001b[0m \u001b[0;36m0\u001b[0m\u001b[0;34m)\u001b[0m\u001b[0;34m,\u001b[0m \u001b[0;34m\"Epoch must be a positive integer\"\u001b[0m\u001b[0;34m\u001b[0m\u001b[0;34m\u001b[0m\u001b[0m\n\u001b[0m",
      "\u001b[0;31mAssertionError\u001b[0m: Epoch must be a positive integer"
     ]
    }
   ],
   "source": [
    "epoch = -1\n",
    "assert (epoch > 0), \"Epoch must be a positive integer\""
   ]
  },
  {
   "cell_type": "code",
   "execution_count": 31,
   "id": "401c8f8c",
   "metadata": {},
   "outputs": [
    {
     "ename": "AssertionError",
     "evalue": "Accuracy must be smaller than 1",
     "output_type": "error",
     "traceback": [
      "\u001b[0;31m---------------------------------------------------------------------------\u001b[0m",
      "\u001b[0;31mAssertionError\u001b[0m                            Traceback (most recent call last)",
      "\u001b[0;32m/var/folders/gd/zf673phs1y7bfj7ttc5md6w80000gn/T/ipykernel_26041/861005928.py\u001b[0m in \u001b[0;36m<module>\u001b[0;34m\u001b[0m\n\u001b[1;32m      1\u001b[0m \u001b[0maccuracy\u001b[0m \u001b[0;34m=\u001b[0m \u001b[0;34m-\u001b[0m\u001b[0;36m9\u001b[0m\u001b[0;34m\u001b[0m\u001b[0;34m\u001b[0m\u001b[0m\n\u001b[0;32m----> 2\u001b[0;31m \u001b[0;32massert\u001b[0m \u001b[0;34m(\u001b[0m\u001b[0maccuracy\u001b[0m \u001b[0;34m>=\u001b[0m \u001b[0;36m0\u001b[0m \u001b[0;32mand\u001b[0m \u001b[0maccuracy\u001b[0m \u001b[0;34m<=\u001b[0m \u001b[0;36m1\u001b[0m\u001b[0;34m)\u001b[0m\u001b[0;34m,\u001b[0m \u001b[0;34m\"Accuracy must be smaller than 1\"\u001b[0m\u001b[0;34m\u001b[0m\u001b[0;34m\u001b[0m\u001b[0m\n\u001b[0m",
      "\u001b[0;31mAssertionError\u001b[0m: Accuracy must be smaller than 1"
     ]
    }
   ],
   "source": [
    "accuracy = -9\n",
    "assert (accuracy >= 0 and accuracy <= 1), \"Accuracy must be greater than 0 and smaller than 1\""
   ]
  },
  {
   "cell_type": "code",
   "execution_count": 35,
   "id": "8ebaee11",
   "metadata": {},
   "outputs": [
    {
     "ename": "AssertionError",
     "evalue": "Sensitivity must be greater than 0 andsmaller than 1",
     "output_type": "error",
     "traceback": [
      "\u001b[0;31m---------------------------------------------------------------------------\u001b[0m",
      "\u001b[0;31mAssertionError\u001b[0m                            Traceback (most recent call last)",
      "\u001b[0;32m/var/folders/gd/zf673phs1y7bfj7ttc5md6w80000gn/T/ipykernel_26041/3186673149.py\u001b[0m in \u001b[0;36m<module>\u001b[0;34m\u001b[0m\n\u001b[1;32m      1\u001b[0m \u001b[0msensitivity\u001b[0m \u001b[0;34m=\u001b[0m \u001b[0;36m2\u001b[0m\u001b[0;34m\u001b[0m\u001b[0;34m\u001b[0m\u001b[0m\n\u001b[0;32m----> 2\u001b[0;31m \u001b[0;32massert\u001b[0m \u001b[0;34m(\u001b[0m\u001b[0msensitivity\u001b[0m \u001b[0;34m>=\u001b[0m \u001b[0;36m0\u001b[0m \u001b[0;32mand\u001b[0m \u001b[0msensitivity\u001b[0m \u001b[0;34m<=\u001b[0m \u001b[0;36m1\u001b[0m\u001b[0;34m)\u001b[0m\u001b[0;34m,\u001b[0m \u001b[0;34m\"Sensitivity must be greater than 0 andsmaller than 1\"\u001b[0m\u001b[0;34m\u001b[0m\u001b[0;34m\u001b[0m\u001b[0m\n\u001b[0m",
      "\u001b[0;31mAssertionError\u001b[0m: Sensitivity must be greater than 0 andsmaller than 1"
     ]
    }
   ],
   "source": [
    "sensitivity = 2\n",
    "assert (sensitivity >= 0 and sensitivity <= 1), \"Sensitivity must be greater than 0 and smaller than 1\""
   ]
  },
  {
   "cell_type": "code",
   "execution_count": 38,
   "id": "6c707247",
   "metadata": {},
   "outputs": [
    {
     "ename": "AssertionError",
     "evalue": "Specificity must be greater than 0 andsmaller than 1",
     "output_type": "error",
     "traceback": [
      "\u001b[0;31m---------------------------------------------------------------------------\u001b[0m",
      "\u001b[0;31mAssertionError\u001b[0m                            Traceback (most recent call last)",
      "\u001b[0;32m/var/folders/gd/zf673phs1y7bfj7ttc5md6w80000gn/T/ipykernel_26041/2763802449.py\u001b[0m in \u001b[0;36m<module>\u001b[0;34m\u001b[0m\n\u001b[1;32m      1\u001b[0m \u001b[0mspecificity\u001b[0m \u001b[0;34m=\u001b[0m \u001b[0;36m3\u001b[0m\u001b[0;34m\u001b[0m\u001b[0;34m\u001b[0m\u001b[0m\n\u001b[0;32m----> 2\u001b[0;31m \u001b[0;32massert\u001b[0m \u001b[0;34m(\u001b[0m\u001b[0mspecificity\u001b[0m \u001b[0;34m>=\u001b[0m \u001b[0;36m0\u001b[0m \u001b[0;32mand\u001b[0m \u001b[0mspecificity\u001b[0m \u001b[0;34m<=\u001b[0m \u001b[0;36m1\u001b[0m\u001b[0;34m)\u001b[0m\u001b[0;34m,\u001b[0m \u001b[0;34m\"Specificity must be greater than 0 andsmaller than 1\"\u001b[0m\u001b[0;34m\u001b[0m\u001b[0;34m\u001b[0m\u001b[0m\n\u001b[0m",
      "\u001b[0;31mAssertionError\u001b[0m: Specificity must be greater than 0 andsmaller than 1"
     ]
    }
   ],
   "source": [
    "specificity = 3\n",
    "assert (specificity >= 0 and specificity <= 1), \"Specificity must be greater than 0 and smaller than 1\""
   ]
  },
  {
   "cell_type": "code",
   "execution_count": 39,
   "id": "433a30f8",
   "metadata": {},
   "outputs": [
    {
     "ename": "AssertionError",
     "evalue": "Precision must be greater than 0 andsmaller than 1",
     "output_type": "error",
     "traceback": [
      "\u001b[0;31m---------------------------------------------------------------------------\u001b[0m",
      "\u001b[0;31mAssertionError\u001b[0m                            Traceback (most recent call last)",
      "\u001b[0;32m/var/folders/gd/zf673phs1y7bfj7ttc5md6w80000gn/T/ipykernel_26041/3783893643.py\u001b[0m in \u001b[0;36m<module>\u001b[0;34m\u001b[0m\n\u001b[1;32m      1\u001b[0m \u001b[0mprecision\u001b[0m \u001b[0;34m=\u001b[0m \u001b[0;34m-\u001b[0m\u001b[0;36m1\u001b[0m\u001b[0;34m\u001b[0m\u001b[0;34m\u001b[0m\u001b[0m\n\u001b[0;32m----> 2\u001b[0;31m \u001b[0;32massert\u001b[0m \u001b[0;34m(\u001b[0m\u001b[0mprecision\u001b[0m \u001b[0;34m>=\u001b[0m \u001b[0;36m0\u001b[0m \u001b[0;32mand\u001b[0m \u001b[0mprecision\u001b[0m \u001b[0;34m<=\u001b[0m \u001b[0;36m1\u001b[0m\u001b[0;34m)\u001b[0m\u001b[0;34m,\u001b[0m \u001b[0;34m\"Precision must be greater than 0 andsmaller than 1\"\u001b[0m\u001b[0;34m\u001b[0m\u001b[0;34m\u001b[0m\u001b[0m\n\u001b[0m",
      "\u001b[0;31mAssertionError\u001b[0m: Precision must be greater than 0 andsmaller than 1"
     ]
    }
   ],
   "source": [
    "precision = -1\n",
    "assert (precision >= 0 and precision <= 1), \"Precision must be greater than 0 and smaller than 1\""
   ]
  },
  {
   "cell_type": "code",
   "execution_count": 40,
   "id": "f68691ca",
   "metadata": {},
   "outputs": [
    {
     "ename": "AssertionError",
     "evalue": "F1-score must be greater than 0 andsmaller than 1",
     "output_type": "error",
     "traceback": [
      "\u001b[0;31m---------------------------------------------------------------------------\u001b[0m",
      "\u001b[0;31mAssertionError\u001b[0m                            Traceback (most recent call last)",
      "\u001b[0;32m/var/folders/gd/zf673phs1y7bfj7ttc5md6w80000gn/T/ipykernel_26041/4099057812.py\u001b[0m in \u001b[0;36m<module>\u001b[0;34m\u001b[0m\n\u001b[1;32m      1\u001b[0m \u001b[0mF1score\u001b[0m \u001b[0;34m=\u001b[0m \u001b[0;36m3\u001b[0m\u001b[0;34m\u001b[0m\u001b[0;34m\u001b[0m\u001b[0m\n\u001b[0;32m----> 2\u001b[0;31m \u001b[0;32massert\u001b[0m \u001b[0;34m(\u001b[0m\u001b[0mF1score\u001b[0m \u001b[0;34m>=\u001b[0m \u001b[0;36m0\u001b[0m \u001b[0;32mand\u001b[0m \u001b[0mF1score\u001b[0m \u001b[0;34m<=\u001b[0m \u001b[0;36m1\u001b[0m\u001b[0;34m)\u001b[0m\u001b[0;34m,\u001b[0m \u001b[0;34m\"F1-score must be greater than 0 andsmaller than 1\"\u001b[0m\u001b[0;34m\u001b[0m\u001b[0;34m\u001b[0m\u001b[0m\n\u001b[0m",
      "\u001b[0;31mAssertionError\u001b[0m: F1-score must be greater than 0 andsmaller than 1"
     ]
    }
   ],
   "source": [
    "F1score = 3\n",
    "assert (F1score >= 0 and F1score <= 1), \"F1-score must be greater than 0 and smaller than 1\""
   ]
  },
  {
   "cell_type": "code",
   "execution_count": null,
   "id": "3cf9f37e",
   "metadata": {},
   "outputs": [],
   "source": []
  }
 ],
 "metadata": {
  "interpreter": {
   "hash": "31f2aee4e71d21fbe5cf8b01ff0e069b9275f58929596ceb00d14d90e3e16cd6"
  },
  "kernelspec": {
   "display_name": "Python 3 (ipykernel)",
   "language": "python",
   "name": "python3"
  },
  "language_info": {
   "codemirror_mode": {
    "name": "ipython",
    "version": 3
   },
   "file_extension": ".py",
   "mimetype": "text/x-python",
   "name": "python",
   "nbconvert_exporter": "python",
   "pygments_lexer": "ipython3",
   "version": "3.9.7"
  }
 },
 "nbformat": 4,
 "nbformat_minor": 5
}
